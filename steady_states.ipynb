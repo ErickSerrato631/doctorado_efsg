{
 "cells": [
  {
   "cell_type": "code",
   "execution_count": 1,
   "id": "5d211c77-55a1-47ad-a21c-257a0452fafa",
   "metadata": {},
   "outputs": [],
   "source": [
    "import sympy\n",
    "from sympy import *\n",
    "import numpy as np"
   ]
  },
  {
   "cell_type": "code",
   "execution_count": 25,
   "id": "a688b02d-e5ce-448e-a55e-8c195ec08cfa",
   "metadata": {},
   "outputs": [],
   "source": [
    "constants = {\n",
    "  \"rc\": 0.57,\n",
    "  \"rs\": 1.57,\n",
    "  \"rd\":  2.14,\n",
    "  \"alpha\": 2.515,\n",
    "  \"delta\": 1.14,\n",
    "  \"beta\": 2.16,\n",
    "  \"a\":  1.33,\n",
    "  \"gamma\": 2.76,\n",
    "  \"eta\": 0.71,\n",
    "  \"mu\": 0\n",
    "}"
   ]
  },
  {
   "cell_type": "code",
   "execution_count": 26,
   "id": "368e8033-96d6-4aad-9eaf-14f35f946de3",
   "metadata": {},
   "outputs": [],
   "source": [
    "def F1(c, s):\n",
    "    rc = constants[\"rc\"]\n",
    "    rs = constants[\"rs\"]\n",
    "    beta = constants[\"beta\"]\n",
    "    alpha = constants[\"alpha\"]\n",
    "    gamma = constants[\"gamma\"]\n",
    "    delta = constants[\"delta\"]\n",
    "    mu = constants[\"mu\"]\n",
    "    eta = constants[\"eta\"]\n",
    "    a = constants[\"a\"]\n",
    "    \n",
    "    return -c * (-1 + c) * (-a + c) * rc + c * s * alpha + (c * beta * (-2 * rs * (-1 + s) * s + c * (-2 * s * gamma + c * alpha * mu)))/(2 * s * delta) - \\\n",
    "         1/2 * mu * (s**2 * gamma + (eta * (2 * rs * (-1 + s) * s + c * (2 * s * gamma - c * alpha * mu))**2)/(4 * s**2 * delta**2))"
   ]
  },
  {
   "cell_type": "code",
   "execution_count": 27,
   "id": "f1396432-d921-4994-a039-16dfd3daf4ae",
   "metadata": {},
   "outputs": [],
   "source": [
    "def F2(c, s):\n",
    "    rd = constants[\"rd\"]\n",
    "    rs = constants[\"rs\"]\n",
    "    beta = constants[\"beta\"]\n",
    "    alpha = constants[\"alpha\"]\n",
    "    gamma = constants[\"gamma\"]\n",
    "    delta = constants[\"delta\"]\n",
    "    mu = constants[\"mu\"]\n",
    "    eta = constants[\"eta\"]\n",
    "    a = constants[\"a\"]\n",
    "    \n",
    "    return  (-(rd*(2*rs*(-1 + s)*s + 2*c*s*gamma - 2*s*delta - c**2*alpha*mu)*(2*rs*(-1 + s)*s + c*(2*s*gamma - c*alpha*mu))) + 2*s*delta*(-2*c*rs*(-1 + s)*s*eta + s**3*delta**2*mu + c**3*alpha*eta*mu - c**2*s*(2*gamma*eta + beta*delta*mu)))/(4.*s**2*delta**2)"
   ]
  },
  {
   "cell_type": "code",
   "execution_count": 28,
   "id": "d7ff9a5c-a944-480c-98d2-ee122f118fb0",
   "metadata": {},
   "outputs": [],
   "source": [
    "def newton_raphson(F1, F2, x0, y0, tol=1e-6, max_iter=50000):\n",
    "    x = x0\n",
    "    y = y0\n",
    "    iter = 0\n",
    "    while iter < max_iter:\n",
    "        iter += 1\n",
    "        J11 = (F1(x + tol, y) - F1(x, y)) / tol\n",
    "        J12 = (F1(x, y + tol) - F1(x, y)) / tol\n",
    "        J21 = (F2(x + tol, y) - F2(x, y)) / tol\n",
    "        J22 = (F2(x, y + tol) - F2(x, y)) / tol\n",
    "        \n",
    "        detJ = J11 * J22 - J12 * J21\n",
    "        if abs(detJ) < tol:\n",
    "            break\n",
    "        \n",
    "        J_inv = np.linalg.inv([[J11, J12], [J21, J22]])\n",
    "        delta = np.dot(J_inv, np.array([F1(x, y), F2(x, y)]))\n",
    "        x -= delta[0]\n",
    "        y -= delta[1]\n",
    "        \n",
    "        if abs(delta[0]) < tol and abs(delta[1]) < tol:\n",
    "            break\n",
    "    \n",
    "    return x, y"
   ]
  },
  {
   "cell_type": "code",
   "execution_count": 33,
   "id": "d2dc457a-972d-4f5b-a209-d96d7d1cf894",
   "metadata": {},
   "outputs": [],
   "source": [
    "# Suposición inicial\n",
    "c0 = 0.5167\n",
    "s0 = 0.09533\n",
    "\n",
    "# Encontrar las soluciones\n",
    "c, s = newton_raphson(F1, F2, c0, s0)"
   ]
  },
  {
   "cell_type": "code",
   "execution_count": 34,
   "id": "bb26e8f1-4be1-44dc-bc3c-58e2f5aba099",
   "metadata": {},
   "outputs": [
    {
     "data": {
      "text/plain": [
       "0.5184590846331729"
      ]
     },
     "execution_count": 34,
     "metadata": {},
     "output_type": "execute_result"
    }
   ],
   "source": [
    "c"
   ]
  },
  {
   "cell_type": "code",
   "execution_count": 35,
   "id": "d454ad9e-9215-4ed0-845a-ff64e5eafd2e",
   "metadata": {},
   "outputs": [
    {
     "data": {
      "text/plain": [
       "0.08856874293786225"
      ]
     },
     "execution_count": 35,
     "metadata": {},
     "output_type": "execute_result"
    }
   ],
   "source": [
    "s"
   ]
  },
  {
   "cell_type": "code",
   "execution_count": null,
   "id": "099ce23e-4c12-4718-85fe-0692f7fd4c15",
   "metadata": {},
   "outputs": [],
   "source": []
  }
 ],
 "metadata": {
  "kernelspec": {
   "display_name": "Python 3 (ipykernel)",
   "language": "python",
   "name": "python3"
  },
  "language_info": {
   "codemirror_mode": {
    "name": "ipython",
    "version": 3
   },
   "file_extension": ".py",
   "mimetype": "text/x-python",
   "name": "python",
   "nbconvert_exporter": "python",
   "pygments_lexer": "ipython3",
   "version": "3.9.7"
  }
 },
 "nbformat": 4,
 "nbformat_minor": 5
}
