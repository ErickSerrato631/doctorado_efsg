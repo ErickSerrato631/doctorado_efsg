{
 "cells": [
  {
   "cell_type": "code",
   "execution_count": 1,
   "id": "5d211c77-55a1-47ad-a21c-257a0452fafa",
   "metadata": {},
   "outputs": [],
   "source": [
    "import sympy\n",
    "from sympy import *\n",
    "import numpy as np"
   ]
  },
  {
   "cell_type": "code",
   "execution_count": 2,
   "id": "a688b02d-e5ce-448e-a55e-8c195ec08cfa",
   "metadata": {},
   "outputs": [],
   "source": [
    "constants = {\n",
    "  \"rc\": 6.36,\n",
    "  \"rs\": 2.02,\n",
    "  \"rd\":  1.06,\n",
    "  \"alpha\": 1.5,\n",
    "  \"delta\": 4.28,\n",
    "  \"beta\": 2.72,\n",
    "  \"a\":  4.86,\n",
    "  \"gamma\": 4.6,\n",
    "  \"eta\": 7.44,\n",
    "  \"mu\": 1\n",
    "}"
   ]
  },
  {
   "cell_type": "code",
   "execution_count": 13,
   "id": "368e8033-96d6-4aad-9eaf-14f35f946de3",
   "metadata": {},
   "outputs": [],
   "source": [
    "def F1(c, s):\n",
    "    rc = constants[\"rc\"]\n",
    "    rs = constants[\"rs\"]\n",
    "    beta = constants[\"beta\"]\n",
    "    alpha = constants[\"alpha\"]\n",
    "    gamma = constants[\"gamma\"]\n",
    "    delta = constants[\"delta\"]\n",
    "    mu = constants[\"mu\"]\n",
    "    eta = constants[\"eta\"]\n",
    "    a = constants[\"a\"]\n",
    "    \n",
    "    return (1 - c)*c*(-a + c)*rc - c*s*alpha -  (mu*(2*s**3*gamma*delta + 2*rs*s**2*eta - 2*s*(rs - c*gamma)*eta + c**2*alpha*eta*mu))/(4*s*delta) + (c*beta*np.sqrt(2*rs*(-1 + s)*s + c*(2*s*gamma + c*alpha*mu)))/(np.sqrt(2)*np.sqrt(s)*np.sqrt(delta))"
   ]
  },
  {
   "cell_type": "code",
   "execution_count": 14,
   "id": "f1396432-d921-4994-a039-16dfd3daf4ae",
   "metadata": {},
   "outputs": [],
   "source": [
    "def F2(c, s):\n",
    "    rd = constants[\"rd\"]\n",
    "    rs = constants[\"rs\"]\n",
    "    beta = constants[\"beta\"]\n",
    "    alpha = constants[\"alpha\"]\n",
    "    gamma = constants[\"gamma\"]\n",
    "    delta = constants[\"delta\"]\n",
    "    mu = constants[\"mu\"]\n",
    "    eta = constants[\"eta\"]\n",
    "    a = constants[\"a\"]\n",
    "    \n",
    "    return -(c**2*s*beta*delta*mu - np.sqrt(2)*c*np.sqrt(s)*np.sqrt(delta)*eta*np.sqrt(2*rs*(-1 + s)*s + c*(2*s*gamma + c*alpha*mu)) + s**2.5*delta**1.5*np.sqrt(4*rs*(-1 + s)*s + 2*c*(2*s*gamma + c*alpha*mu)) + rd*(2*rs*(-1 + s)*s + 2*c*s*gamma + c**2*alpha*mu + np.sqrt(2)*np.sqrt(s)*np.sqrt(delta)*np.sqrt(2*rs*(-1 + s)*s + c*(2*s*gamma + c*alpha*mu))))/(2.*s*delta)"
   ]
  },
  {
   "cell_type": "code",
   "execution_count": 15,
   "id": "d7ff9a5c-a944-480c-98d2-ee122f118fb0",
   "metadata": {},
   "outputs": [],
   "source": [
    "def newton_raphson(F1, F2, x0, y0, tol=1e-6, max_iter=50000):\n",
    "    x = x0\n",
    "    y = y0\n",
    "    iter = 0\n",
    "    while iter < max_iter:\n",
    "        iter += 1\n",
    "        J11 = (F1(x + tol, y) - F1(x, y)) / tol\n",
    "        J12 = (F1(x, y + tol) - F1(x, y)) / tol\n",
    "        J21 = (F2(x + tol, y) - F2(x, y)) / tol\n",
    "        J22 = (F2(x, y + tol) - F2(x, y)) / tol\n",
    "        \n",
    "        detJ = J11 * J22 - J12 * J21\n",
    "        if abs(detJ) < tol:\n",
    "            break\n",
    "        \n",
    "        J_inv = np.linalg.inv([[J11, J12], [J21, J22]])\n",
    "        delta = np.dot(J_inv, np.array([F1(x, y), F2(x, y)]))\n",
    "        x -= delta[0]\n",
    "        y -= delta[1]\n",
    "        \n",
    "        if abs(delta[0]) < tol and abs(delta[1]) < tol:\n",
    "            break\n",
    "    \n",
    "    return x, y"
   ]
  },
  {
   "cell_type": "code",
   "execution_count": 16,
   "id": "d2dc457a-972d-4f5b-a209-d96d7d1cf894",
   "metadata": {},
   "outputs": [],
   "source": [
    "# Suposición inicial\n",
    "c0 = 1.223\n",
    "s0 = 1.109\n",
    "\n",
    "# Encontrar las soluciones\n",
    "c, s = newton_raphson(F1, F2, c0, s0)"
   ]
  },
  {
   "cell_type": "code",
   "execution_count": 17,
   "id": "bb26e8f1-4be1-44dc-bc3c-58e2f5aba099",
   "metadata": {},
   "outputs": [
    {
     "data": {
      "text/plain": [
       "1.2293306213935"
      ]
     },
     "execution_count": 17,
     "metadata": {},
     "output_type": "execute_result"
    }
   ],
   "source": [
    "c"
   ]
  },
  {
   "cell_type": "code",
   "execution_count": 18,
   "id": "d454ad9e-9215-4ed0-845a-ff64e5eafd2e",
   "metadata": {},
   "outputs": [
    {
     "data": {
      "text/plain": [
       "1.0938679018672262"
      ]
     },
     "execution_count": 18,
     "metadata": {},
     "output_type": "execute_result"
    }
   ],
   "source": [
    "s"
   ]
  },
  {
   "cell_type": "code",
   "execution_count": null,
   "id": "099ce23e-4c12-4718-85fe-0692f7fd4c15",
   "metadata": {},
   "outputs": [],
   "source": []
  }
 ],
 "metadata": {
  "kernelspec": {
   "display_name": "Python 3 (ipykernel)",
   "language": "python",
   "name": "python3"
  },
  "language_info": {
   "codemirror_mode": {
    "name": "ipython",
    "version": 3
   },
   "file_extension": ".py",
   "mimetype": "text/x-python",
   "name": "python",
   "nbconvert_exporter": "python",
   "pygments_lexer": "ipython3",
   "version": "3.9.7"
  }
 },
 "nbformat": 4,
 "nbformat_minor": 5
}
