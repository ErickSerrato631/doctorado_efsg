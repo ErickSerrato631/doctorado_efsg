{
 "cells": [
  {
   "cell_type": "code",
   "execution_count": 1,
   "id": "5d211c77-55a1-47ad-a21c-257a0452fafa",
   "metadata": {},
   "outputs": [],
   "source": [
    "import sympy\n",
    "from sympy import *\n"
   ]
  },
  {
   "cell_type": "code",
   "execution_count": 2,
   "id": "a688b02d-e5ce-448e-a55e-8c195ec08cfa",
   "metadata": {},
   "outputs": [],
   "source": [
    "constants = {\n",
    "  \"rc\": 0.595,\n",
    "  \"rs\": 0.6,\n",
    "  \"rd\": 0.595,\n",
    "  \"delta\": 0.33,\n",
    "  \"beta\": 0.5,\n",
    "  \"alpha\":1  ,\n",
    "  \"a\": 2.83,\n",
    "  \"gamma\": 0.5,\n",
    "  \"eta\": 0.365,\n",
    "  \"mu\": 0.365\n",
    "}"
   ]
  },
  {
   "cell_type": "code",
   "execution_count": 3,
   "id": "ad28fe08-7c76-41a2-84ec-0aba0767d62b",
   "metadata": {},
   "outputs": [],
   "source": [
    "# Define la variable\n",
    "c,s = symbols('c s')\n",
    "# Define los símbolos\n",
    "# a, c, rc, rd, s, alpha, beta, rs, gamma, mu, delta, eta = symbols('a c rc rd s alpha beta rs gamma mu delta eta')"
   ]
  },
  {
   "cell_type": "code",
   "execution_count": 4,
   "id": "4a338b01-dd61-4326-872a-e1a24eca3d48",
   "metadata": {},
   "outputs": [],
   "source": [
    "ddesp = (-2*constants['rs']*s + 2*constants['rs']*s**2 + 2*c*s*constants['gamma'] - c**2*constants['alpha']*constants['mu']) / (2*s*constants['delta'])                                                            "
   ]
  },
  {
   "cell_type": "code",
   "execution_count": 5,
   "id": "c5c4d2b9-60c5-4ad3-b492-91811f1ccc54",
   "metadata": {},
   "outputs": [],
   "source": [
    "\n",
    "F1 = (constants['a'] - c)*(-1 + c)*c*constants['rc'] + c*s*constants['alpha'] + \\\n",
    "        (c*constants['beta']*(-2*constants['rs']*(-1 + s)*s + c*(-2*s*constants['gamma'] + c*constants['alpha']*constants['mu'])))/(2*s*constants['delta']) - \\\n",
    "         constants['mu']*((s**2*constants['gamma'])/2 - (constants['eta']*(2*constants['rs']*(-1 + s)*s + c*(2*s*constants['gamma'] - c*constants['alpha']*constants['mu']))**2)/(8*s**2*constants['delta']**2))\n"
   ]
  },
  {
   "cell_type": "code",
   "execution_count": 6,
   "id": "7a6be828-1182-4b89-9584-53586ae63a80",
   "metadata": {},
   "outputs": [],
   "source": [
    "F2 = (-(constants['rd']*(2*constants['rs']*(-1 + s)*s + 2*c*s*constants['gamma'] - 2*s*constants['delta'] - c**2*constants['alpha']*constants['mu'])* \\\n",
    "     (2*constants['rs']*(-1 + s)*s + c*(2*s*constants['gamma'] - c*constants['alpha']*constants['mu']))) + \\\n",
    "     2*s*constants['delta']*(2*c*constants['rs']*(-1 + s)*s*constants['eta'] + s**3*constants['delta']**2*constants['mu'] - c**3*constants['alpha']*constants['eta']*constants['mu'] + c**2*s*(2*constants['gamma']*constants['eta'] - constants['beta']*constants['delta']*constants['mu'])))/ \\\n",
    "     (4*s**2*constants['delta']**2)\n"
   ]
  },
  {
   "cell_type": "code",
   "execution_count": 10,
   "id": "fd67ad51-f521-47fc-94e5-dfe72e757d3b",
   "metadata": {},
   "outputs": [],
   "source": [
    "c_despS = solve(F1, c)"
   ]
  },
  {
   "cell_type": "code",
   "execution_count": 26,
   "id": "c93ab858-3f2d-4abc-a2fe-06a6aea20b2e",
   "metadata": {},
   "outputs": [],
   "source": [
    "F2s1 = F2.subs(c, c_despS[0])\n"
   ]
  },
  {
   "cell_type": "code",
   "execution_count": null,
   "id": "a0cf6d55-293f-4ae9-b1c6-b0b1da01e183",
   "metadata": {},
   "outputs": [],
   "source": [
    "S_steadys = solve(F2s1, s)"
   ]
  },
  {
   "cell_type": "code",
   "execution_count": null,
   "id": "83e31588-7688-4180-bb74-669e66f71299",
   "metadata": {},
   "outputs": [],
   "source": []
  },
  {
   "cell_type": "code",
   "execution_count": 12,
   "id": "c6f29567-9400-4db0-b0bd-26c1a5a1d63f",
   "metadata": {},
   "outputs": [
    {
     "name": "stdout",
     "output_type": "stream",
     "text": [
      "La ecuación f(x) con g(x) sustituida es: (2*x + 1)**2 - 4\n"
     ]
    }
   ],
   "source": [
    "# Define la variable simbólica\n",
    "x = symbols('x')\n",
    "\n",
    "# Define las ecuaciones\n",
    "f = x**2 - 4\n",
    "g = 2*x + 1\n",
    "\n",
    "# Sustituir g(x) en f(x)\n",
    "f_sustituida = f.subs(x, g)\n",
    "\n",
    "print(\"La ecuación f(x) con g(x) sustituida es:\", f_sustituida)"
   ]
  },
  {
   "cell_type": "code",
   "execution_count": 13,
   "id": "f3c40c06-e3e8-4454-af9c-b3f46236f0ff",
   "metadata": {},
   "outputs": [
    {
     "data": {
      "text/latex": [
       "$\\displaystyle \\left(2 x + 1\\right)^{2} - 4$"
      ],
      "text/plain": [
       "(2*x + 1)**2 - 4"
      ]
     },
     "execution_count": 13,
     "metadata": {},
     "output_type": "execute_result"
    }
   ],
   "source": [
    "f_sustituida"
   ]
  },
  {
   "cell_type": "code",
   "execution_count": null,
   "id": "8095746b-d0fc-4152-91bf-a66c75af45e8",
   "metadata": {},
   "outputs": [],
   "source": []
  },
  {
   "cell_type": "code",
   "execution_count": null,
   "id": "b2ef8ad4-0aa6-49b7-b068-3c2fdc6fbded",
   "metadata": {},
   "outputs": [],
   "source": [
    "ecuacion1 = Eq(F1, 0)"
   ]
  },
  {
   "cell_type": "code",
   "execution_count": null,
   "id": "f94b4c8e-179c-439e-8875-71c54b46fcc8",
   "metadata": {},
   "outputs": [],
   "source": [
    "ecuacion2 = Eq(F2, 0)"
   ]
  },
  {
   "cell_type": "code",
   "execution_count": null,
   "id": "25473c42-2adb-437e-af04-77464fa20ff4",
   "metadata": {},
   "outputs": [],
   "source": [
    "soluciones = solve((ecuacion1, ecuacion2), (c, s))"
   ]
  },
  {
   "cell_type": "code",
   "execution_count": null,
   "id": "a4c27ef0-d057-44a4-93fa-b229a89801bb",
   "metadata": {},
   "outputs": [],
   "source": [
    "soluciones"
   ]
  },
  {
   "cell_type": "code",
   "execution_count": null,
   "id": "099ce23e-4c12-4718-85fe-0692f7fd4c15",
   "metadata": {},
   "outputs": [],
   "source": []
  }
 ],
 "metadata": {
  "kernelspec": {
   "display_name": "Python 3 (ipykernel)",
   "language": "python",
   "name": "python3"
  },
  "language_info": {
   "codemirror_mode": {
    "name": "ipython",
    "version": 3
   },
   "file_extension": ".py",
   "mimetype": "text/x-python",
   "name": "python",
   "nbconvert_exporter": "python",
   "pygments_lexer": "ipython3",
   "version": "3.10.14"
  }
 },
 "nbformat": 4,
 "nbformat_minor": 5
}
