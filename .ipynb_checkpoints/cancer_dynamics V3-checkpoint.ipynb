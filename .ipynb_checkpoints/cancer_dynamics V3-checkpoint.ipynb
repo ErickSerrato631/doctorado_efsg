{
 "cells": [
  {
   "cell_type": "code",
   "execution_count": null,
   "id": "2S6SMN3DS-C0",
   "metadata": {
    "executionInfo": {
     "elapsed": 1603,
     "status": "ok",
     "timestamp": 1704870985499,
     "user": {
      "displayName": "Erick serrato garcia",
      "userId": "14898483939533670725"
     },
     "user_tz": 360
    },
    "id": "2S6SMN3DS-C0"
   },
   "outputs": [],
   "source": [
    "from fenics import *\n",
    "import matplotlib.pyplot as plt\n",
    "from mpl_toolkits.axes_grid1 import make_axes_locatable, axes_size\n",
    "set_log_level(30)\n",
    "import random\n",
    "from dolfin import interpolate, Expression, FunctionSpace, Constant, UserExpression\n",
    "import os\n",
    "import numpy as np"
   ]
  },
  {
   "cell_type": "code",
   "execution_count": null,
   "id": "593777d4-cab3-4896-b02c-b93c569a5887",
   "metadata": {},
   "outputs": [],
   "source": [
    "# os.chdir('/home/erick/Desktop/Doctorado/doctorado_efsg/pruebas')"
   ]
  },
  {
   "cell_type": "code",
   "execution_count": null,
   "id": "6eb5e2da-ce92-441f-a8a0-4621f1169123",
   "metadata": {},
   "outputs": [],
   "source": [
    "class RandomExpression(UserExpression):\n",
    "    def __init__(self, min_val, max_val, **kwargs):\n",
    "        super().__init__(**kwargs)\n",
    "        self.min_val = min_val\n",
    "        self.max_val = max_val\n",
    "\n",
    "    def eval(self, value, x):\n",
    "        value[0] = random.uniform(self.min_val, self.max_val)"
   ]
  },
  {
   "cell_type": "code",
   "execution_count": null,
   "id": "325984ed-b2ff-4c7d-90a6-cc32cc7bf306",
   "metadata": {},
   "outputs": [],
   "source": [
    "def NonlinearSolver(F, field):\n",
    "    J = derivative(F, field)\n",
    "    problem = NonlinearVariationalProblem(F, field, bcs=[], J=J)\n",
    "    solver = NonlinearVariationalSolver(problem)\n",
    "    solver.parameters[\"snes_solver\"][\"method\"] = \"vinewtonrsls\"\n",
    "    solver.parameters[\"snes_solver\"][\"maximum_iterations\"] = 2000\n",
    "    solver.parameters[\"snes_solver\"][\"relative_tolerance\"] = 1e-8\n",
    "    solver.parameters[\"snes_solver\"][\"linear_solver\"] = \"gmres\"\n",
    "    solver.parameters[\"snes_solver\"][\"preconditioner\"] = \"ilu\"\n",
    "    solver.parameters[\"snes_solver\"][\"report\"] = True  # activar reporte\n",
    "\n",
    "    return solver"
   ]
  },
  {
   "cell_type": "code",
   "execution_count": null,
   "id": "3c86397d-c8eb-4ff2-ba5a-d7da1040f0b9",
   "metadata": {},
   "outputs": [],
   "source": [
    "def field_to_numpy_array(fenics_field, coordinates_size, step, field_name, nb): \n",
    "    field_array = np.empty((0, coordinates_size), int)\n",
    "    lista = []\n",
    "    for val_x in range(0,coordinates_size):\n",
    "        for val_y in range(0,coordinates_size):\n",
    "            try:\n",
    "                valor=fenics_field(val_x,val_y)\n",
    "                lista.append(valor)\n",
    "            except:\n",
    "                lista.append(0)\n",
    "\n",
    "            if len(lista) == coordinates_size:\n",
    "                field_array = np.append(field_array, np.array([lista]), axis=0)\n",
    "                if val_x < coordinates_size:\n",
    "                    lista = []\n",
    "    N_field = \"matrix_\"  + field_name +\"_\"+ str(step) + \"_\" + \"nb_\" + str(nb) + \".txt\"\n",
    "    np.savetxt(N_field, field_array, delimiter=\"\\t\")\n",
    "    return None"
   ]
  },
  {
   "cell_type": "code",
   "execution_count": null,
   "id": "eab9d667-678b-4006-a563-b590c9f0a839",
   "metadata": {},
   "outputs": [],
   "source": [
    "def plot_fields(field_1, field_2, field_3):\n",
    "    plt.figure(figsize=(15, 8))\n",
    "\n",
    "    plt.subplot(1, 3, 1)\n",
    "    p1 = plot(field_1)\n",
    "    p1.set_cmap(\"seismic\")\n",
    "    plt.title(f'Solution for c at time {t:.2f}')\n",
    "    aspect = 20\n",
    "    pad_fraction = 0.5\n",
    "    ax = plt.gca()\n",
    "    divider = make_axes_locatable(ax)\n",
    "    width = axes_size.AxesY(ax, aspect=1./aspect)\n",
    "    pad = axes_size.Fraction(pad_fraction, width)\n",
    "    cax = divider.append_axes(\"right\", size=width, pad=pad)\n",
    "    plt.colorbar(p1, cax=cax)\n",
    "\n",
    "\n",
    "    plt.subplot(1, 3, 2)\n",
    "    p2 = plot(field_2)\n",
    "    p2.set_cmap(\"gray\")\n",
    "    plt.title(f'Solution for s at time {t:.2f}')\n",
    "    aspect = 20\n",
    "    pad_fraction = 0.5\n",
    "    ax = plt.gca()\n",
    "    divider = make_axes_locatable(ax)\n",
    "    width = axes_size.AxesY(ax, aspect=1./aspect)\n",
    "    pad = axes_size.Fraction(pad_fraction, width)\n",
    "    cax = divider.append_axes(\"right\", size=width, pad=pad)\n",
    "    plt.colorbar(p2, cax=cax)\n",
    "    \n",
    "    plt.subplot(1, 3, 3)\n",
    "    p3 = plot(field_3)\n",
    "    p3.set_cmap(\"viridis\")\n",
    "    plt.title(f'Solution for i at time {t:.2f}')\n",
    "    aspect = 20\n",
    "    pad_fraction = 0.5\n",
    "    ax = plt.gca()\n",
    "    divider = make_axes_locatable(ax)\n",
    "    width = axes_size.AxesY(ax, aspect=1./aspect)\n",
    "    pad = axes_size.Fraction(pad_fraction, width)\n",
    "    cax = divider.append_axes(\"right\", size=width, pad=pad)\n",
    "    plt.colorbar(p3, cax=cax)\n",
    "\n",
    "    plt.tight_layout(pad=4)\n",
    "    plt.show()"
   ]
  },
  {
   "cell_type": "code",
   "execution_count": null,
   "id": "33197742-f43b-411f-9f7b-bcbaf0de33bc",
   "metadata": {},
   "outputs": [],
   "source": [
    "def create_space_function(space_size):\n",
    "\n",
    "    # Create mesh and define function space\n",
    "    p0 = Point(0.0, 0.0)\n",
    "    p1 = Point(space_size,space_size)\n",
    "    mesh = RectangleMesh(p0, p1, 100, 100,\"right/left\")\n",
    "\n",
    "    V = FunctionSpace(mesh, 'P', 1)\n",
    "    return V\n",
    "\n"
   ]
  },
  {
   "cell_type": "code",
   "execution_count": null,
   "id": "aeFP5aC2rjaS",
   "metadata": {
    "executionInfo": {
     "elapsed": 6,
     "status": "ok",
     "timestamp": 1704870985810,
     "user": {
      "displayName": "Erick serrato garcia",
      "userId": "14898483939533670725"
     },
     "user_tz": 360
    },
    "id": "aeFP5aC2rjaS"
   },
   "outputs": [],
   "source": [
    "def solve_dynamics():\n",
    "\n",
    "    # Define functions for c, s, and i\n",
    "    V = create_space_function(space_size)\n",
    "\n",
    "    c = Function(V)\n",
    "    s = Function(V)\n",
    "    i = Function(V)\n",
    "    phi_c = TestFunction(V)\n",
    "    phi_s = TestFunction(V)\n",
    "    phi_i = TestFunction(V)\n",
    "\n",
    "    # Define the Jacobian, variational problem and solver for each problem\n",
    "    # # Define the weak forms for the equations with time dependence\n",
    "\n",
    "    c_n = interpolate(RandomExpression(min_val=1.1, max_val=1.3, degree=2), V)\n",
    "\n",
    "    F_c = ((c - c_n) / dt) * phi_c * dx + D_c * dot(grad(c), grad(phi_c)) * dx + rc * c * (c - alle) * (1 - c) * phi_c * dx + alpha * c * s * phi_c * dx - beta * i * c * phi_c * dx - mu / 2 * (gamma * s**2 + eta * i**2) * phi_c * dx \n",
    "    #F_c = ((c - c_n) / dt) * phi_c * dx + D_c * dot(grad(c), grad(phi_c)) * dx + rc * c * (c - alle) * (1 - c) * phi_c * dx + alpha * c * s * phi_c * dx - beta * i * c * phi_c * dx \n",
    "\n",
    "    solver_c = NonlinearSolver(F_c, c)\n",
    "\n",
    "\n",
    "\n",
    "    s_n = interpolate(RandomExpression(min_val=0.8, max_val=1, degree=2), V)\n",
    "\n",
    "    F_s = ((s - s_n) / dt) * phi_s * dx + D_s * dot(grad(s), grad(phi_s)) * dx + rs * s * (1 - s) * phi_s * dx - gamma * s * c * phi_s * dx + delta * s * i * phi_s * dx + mu * alpha/2 * c**2  * phi_s * dx\n",
    "    #F_s = ((s - s_n) / dt) * phi_s * dx + D_s * dot(grad(s), grad(phi_s)) * dx + rs * s * (1 - s) * phi_s * dx - gamma * s * c * phi_s * dx + delta * s * i * phi_s * dx \n",
    "    \n",
    "    solver_s = NonlinearSolver(F_s, s)\n",
    "\n",
    "\n",
    "    i_n = interpolate(RandomExpression(min_val=1.6, max_val=1.8, degree=2), V)\n",
    "\n",
    "    F_i = ((i - i_n) / dt) * phi_i * dx + D_i * dot(grad(i), grad(phi_i)) * dx + rd * i * (1 - i)* phi_i * dx - eta * c * i * phi_i * dx - 1/2 * mu ( beta * c**2 - delta * s**2) * phi_s * dx\n",
    "    #F_i = ((i - i_n) / dt) * phi_i * dx + D_i * dot(grad(i), grad(phi_i)) * dx + rd * i * (1 - i)* phi_i * dx - eta * c * i * phi_i * dx \n",
    "\n",
    "    solver_i = NonlinearSolver(F_i, i)\n",
    "    \n",
    "    return solver_c, solver_s, solver_i, c, s, i, c_n, s_n, i_n, dx"
   ]
  },
  {
   "cell_type": "code",
   "execution_count": null,
   "id": "937d112b-f710-4ed1-b28c-ac4f90d15086",
   "metadata": {},
   "outputs": [],
   "source": [
    "def c_s_i_integral(c, s, i, dx, dt):\n",
    "    # Create mesh and define function space\n",
    "    p0 = Point(0.0, 0.0)\n",
    "    p1 = Point(space_size,space_size)\n",
    "    mesh = RectangleMesh(p0, p1, 100, 100,\"right/left\")\n",
    "        \n",
    "#     dx_measure = Measure('dx', domain=mesh)\n",
    "#     dx_numeric = assemble(1*dx_measure)\n",
    "    \n",
    "    c_int = assemble(c*dx)\n",
    "    s_int = assemble(s*dx)\n",
    "    i_int = assemble(i*dx)\n",
    "    return c_int, s_int, i_int"
   ]
  },
  {
   "cell_type": "code",
   "execution_count": null,
   "id": "3176c286-c115-4d12-b742-0a5a4be39099",
   "metadata": {},
   "outputs": [],
   "source": [
    "def plot_integral(array, campo, block):\n",
    "    x = array[:,0]\n",
    "    y = array[:, 1]\n",
    "    # Crear el gráfico\n",
    "    plt.plot(x, y, label='Integral de {campo}'.format(campo=campo), marker='o')\n",
    "    # Add labels and a legend\n",
    "    plt.xlabel('time step')\n",
    "    plt.ylabel('{campo}'.format(campo=campo))\n",
    "    plt.legend()\n",
    "    plt.show()\n",
    "    array = array.astype(float)\n",
    "    #np.savetxt('int_{campo}_{block}.txt'.format(campo=campo, block=block), array) "
   ]
  },
  {
   "cell_type": "code",
   "execution_count": null,
   "id": "a71af288-205a-4e75-9f5e-941c173d4ba2",
   "metadata": {},
   "outputs": [],
   "source": [
    "# Define constants alpha and beta\n",
    "D_c = Constant(1)\n",
    "D_s = Constant(1)\n",
    "D_i = Constant(1)\n",
    "\n",
    "rc = Constant(0.57)\n",
    "rs = Constant(1.57)\n",
    "rd = Constant(2.14)\n",
    "\n",
    "alpha = Constant(2.515)\n",
    "delta = Constant(1.14)\n",
    "beta = Constant(2.16)\n",
    "alle = Constant(1.33)\n",
    "gamma = Constant(2.76)\n",
    "eta = Constant(0.71)\n",
    "mu = Constant(1)\n",
    "\n",
    "\n",
    "# Define time step and time interval\n",
    "T = 2  # final time\n",
    "dt = 0.01  # time step size\n",
    "nb = 1\n",
    "space_size = 40"
   ]
  },
  {
   "cell_type": "code",
   "execution_count": null,
   "id": "NHJFnsBXVjdD",
   "metadata": {
    "colab": {
     "base_uri": "https://localhost:8080/",
     "height": 1000
    },
    "id": "NHJFnsBXVjdD",
    "outputId": "536bd9e6-8a2e-4179-8b65-b67ce1ae13fd"
   },
   "outputs": [],
   "source": [
    "for block in range(1,nb+1):\n",
    "    # Time-stepping\n",
    "    t = 0\n",
    "    solver_c, solver_s, solver_i, c, s, i, c_n, s_n, i_n, dx = solve_dynamics()\n",
    "    print('bloque',block)\n",
    "    \n",
    "    c_int, s_int, i_int = c_s_i_integral(c, s, i, dx, 0)\n",
    "\n",
    "    c_int_array = np.zeros((1,2))\n",
    "    c_int_array[0][0] = \"{:.2f}\".format(t)\n",
    "    c_int_array[0][1] = c_int   \n",
    "\n",
    "    s_int_array = np.zeros((1,2))\n",
    "    s_int_array[0][0] = \"{:.2f}\".format(t)\n",
    "    s_int_array[0][1] = s_int   \n",
    "\n",
    "    i_int_array = np.zeros((1,2))\n",
    "    i_int_array[0][0] = \"{:.2f}\".format(t)\n",
    "    i_int_array[0][1] = i_int   \n",
    "    \n",
    "    while (t < T):\n",
    "        t += dt\n",
    "\n",
    "        # Solve the system for the next time step\n",
    "        solver_c.solve()\n",
    "        solver_s.solve()\n",
    "        solver_i.solve()\n",
    "\n",
    "        # Update previous solution\n",
    "        c_n.assign(c)\n",
    "        s_n.assign(s)\n",
    "        i_n.assign(i)\n",
    "        c_int, s_int, i_int = c_s_i_integral(c, s, i, dx,dt)\n",
    "        \n",
    "        c_int_array = np.vstack([c_int_array, np.array([\"{:.2f}\".format(t), c_int])])\n",
    "        s_int_array = np.vstack([s_int_array, np.array([\"{:.2f}\".format(t), s_int])])\n",
    "        i_int_array = np.vstack([i_int_array, np.array([\"{:.2f}\".format(t), i_int])])\n",
    "\n",
    "        # field_to_numpy_array(c, space_size, \"{:.2f}\".format(t), \"c\", block)\n",
    "        # field_to_numpy_array(s, space_size, \"{:.2f}\".format(t), \"s\", block)\n",
    "        # field_to_numpy_array(i, space_size, \"{:.2f}\".format(t), \"i\", block)\n",
    "        plot_fields(c_n, s_n, i_n)\n"
   ]
  },
  {
   "cell_type": "code",
   "execution_count": null,
   "id": "4dedbb2e-eec1-45cb-a901-5706ba15344b",
   "metadata": {},
   "outputs": [],
   "source": [
    "# plot_integral(c_int_array, 'c', block)"
   ]
  },
  {
   "cell_type": "code",
   "execution_count": null,
   "id": "7dffca9f-e2a4-4976-8609-9b1457cb951c",
   "metadata": {},
   "outputs": [],
   "source": [
    "# plot_integral(s_int_array, 's', block)"
   ]
  },
  {
   "cell_type": "code",
   "execution_count": null,
   "id": "3f9c6d99-5792-4ddc-87ff-9be4e8a752ae",
   "metadata": {},
   "outputs": [],
   "source": [
    "# plot_integral(i_int_array, 's', block)"
   ]
  },
  {
   "cell_type": "code",
   "execution_count": null,
   "id": "c04989ff-460d-457b-9b2d-3d4a6dd937dc",
   "metadata": {},
   "outputs": [],
   "source": [
    "# print(assemble(s*dx))"
   ]
  },
  {
   "cell_type": "code",
   "execution_count": null,
   "id": "4abde797-8364-448a-8576-eccfb1e2037e",
   "metadata": {},
   "outputs": [],
   "source": []
  }
 ],
 "metadata": {
  "colab": {
   "provenance": []
  },
  "kernelspec": {
   "display_name": "Python 3 (ipykernel)",
   "language": "python",
   "name": "python3"
  },
  "language_info": {
   "codemirror_mode": {
    "name": "ipython",
    "version": 3
   },
   "file_extension": ".py",
   "mimetype": "text/x-python",
   "name": "python",
   "nbconvert_exporter": "python",
   "pygments_lexer": "ipython3",
   "version": "3.9.7"
  }
 },
 "nbformat": 4,
 "nbformat_minor": 5
}
