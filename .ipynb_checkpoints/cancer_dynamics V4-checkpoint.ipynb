{
 "cells": [
  {
   "cell_type": "code",
   "execution_count": 1,
   "id": "2S6SMN3DS-C0",
   "metadata": {
    "executionInfo": {
     "elapsed": 1603,
     "status": "ok",
     "timestamp": 1704870985499,
     "user": {
      "displayName": "Erick serrato garcia",
      "userId": "14898483939533670725"
     },
     "user_tz": 360
    },
    "id": "2S6SMN3DS-C0"
   },
   "outputs": [],
   "source": [
    "from fenics import *\n",
    "import matplotlib.pyplot as plt\n",
    "from mpl_toolkits.axes_grid1 import make_axes_locatable, axes_size\n",
    "set_log_level(30)\n",
    "import random\n",
    "from dolfin import interpolate, Expression, FunctionSpace, Constant, UserExpression\n",
    "from dotenv import load_dotenv\n",
    "import os\n",
    "load_dotenv()\n",
    "import numpy as np"
   ]
  },
  {
   "cell_type": "code",
   "execution_count": 2,
   "id": "593777d4-cab3-4896-b02c-b93c569a5887",
   "metadata": {},
   "outputs": [],
   "source": [
    "os.chdir('/home/erick/Desktop/Doctorado/doctorado_efsg/pruebas')"
   ]
  },
  {
   "cell_type": "code",
   "execution_count": 3,
   "id": "e2ebb512-0da8-48cc-8a8d-3ee996fb512e",
   "metadata": {},
   "outputs": [],
   "source": [
    "# Define constants alpha and beta\n",
    "D_c = dt = float(os.getenv('D_c'))\n",
    "D_s = dt = float(os.getenv('D_s'))\n",
    "D_i = dt = float(os.getenv('D_i'))\n",
    "\n",
    "rc = dt = float(os.getenv('rc'))\n",
    "rs = dt = float(os.getenv('rs'))\n",
    "rd = dt = float(os.getenv('rd'))\n",
    "\n",
    "alpha = dt = float(os.getenv('alpha'))\n",
    "delta = dt = float(os.getenv('delta'))\n",
    "beta = dt = float(os.getenv('beta'))\n",
    "alle = dt = float(os.getenv('alle'))\n",
    "gamma = dt = float(os.getenv('gamma'))\n",
    "eta = dt = float(os.getenv('eta'))\n",
    "mu = dt = float(os.getenv('mu'))\n",
    "\n",
    "# Define time parameters\n",
    "T = float(os.getenv('T'))\n",
    "dt = float(os.getenv('dt'))\n",
    "nb = int(os.getenv('nb'))\n",
    "\n",
    "# Define mesh and space\n",
    "nodes_in_xaxis = int(os.getenv('nodes_in_xaxis'))\n",
    "nodes_in_yaxis = int(os.getenv('nodes_in_yaxis'))\n",
    "space_size = int(os.getenv('space_size'))"
   ]
  },
  {
   "cell_type": "code",
   "execution_count": 4,
   "id": "6eb5e2da-ce92-441f-a8a0-4621f1169123",
   "metadata": {},
   "outputs": [],
   "source": [
    "class RandomExpression(UserExpression):\n",
    "    def __init__(self, min_val, max_val, **kwargs):\n",
    "        super().__init__(**kwargs)\n",
    "        self.min_val = min_val\n",
    "        self.max_val = max_val\n",
    "\n",
    "    def eval(self, value, x):\n",
    "        value[0] = random.uniform(self.min_val, self.max_val)"
   ]
  },
  {
   "cell_type": "code",
   "execution_count": 5,
   "id": "325984ed-b2ff-4c7d-90a6-cc32cc7bf306",
   "metadata": {},
   "outputs": [],
   "source": [
    "def NonlinearSolver(F, field):\n",
    "    J = derivative(F, field)\n",
    "    problem = NonlinearVariationalProblem(F, field, bcs=[], J=J)\n",
    "    solver = NonlinearVariationalSolver(problem)\n",
    "    \n",
    "    prm = solver.parameters[\"snes_solver\"]\n",
    "    prm[\"method\"] = \"vinewtonrsls\"\n",
    "    prm[\"maximum_iterations\"] = 10000  # Aumentar el número máximo de iteraciones\n",
    "    prm[\"relative_tolerance\"] = 1e-6   # Relajar la tolerancia relativa\n",
    "    prm[\"absolute_tolerance\"] = 1e-8   # Relajar la tolerancia absoluta\n",
    "    prm[\"linear_solver\"] = \"mumps\"\n",
    "    prm[\"preconditioner\"] = \"none\"\n",
    "    prm[\"report\"] = True\n",
    "    prm[\"error_on_nonconvergence\"] = False\n",
    "\n",
    "    linear_solver_options = [\"cg\", \"gmres\", \"bicgstab\"]\n",
    "    preconditioner_options = [\"ilu\", \"amg\", \"icc\"]\n",
    "    \n",
    "    for linear_solver in linear_solver_options:\n",
    "        for preconditioner in preconditioner_options:\n",
    "            solver.parameters[\"snes_solver\"][\"linear_solver\"] = linear_solver\n",
    "            solver.parameters[\"snes_solver\"][\"preconditioner\"] = preconditioner\n",
    "            try:\n",
    "                solver.solve()\n",
    "                return solver\n",
    "            except RuntimeError as e:\n",
    "                print(f\"Failed with linear_solver={linear_solver} and preconditioner={preconditioner}: {e}\")\n",
    "                continue\n",
    "\n",
    "    raise RuntimeError(\"No se pudo resolver el sistema no lineal con ninguno de los métodos probados.\")"
   ]
  },
  {
   "cell_type": "code",
   "execution_count": 6,
   "id": "3c86397d-c8eb-4ff2-ba5a-d7da1040f0b9",
   "metadata": {},
   "outputs": [],
   "source": [
    "def field_to_numpy_array(fenics_field, space_size, step, field_name, nb): \n",
    "    field_array = np.empty((0, space_size), int)\n",
    "    lista = []\n",
    "    for val_x in range(0,space_size):\n",
    "        for val_y in range(0,space_size):\n",
    "            try:\n",
    "                valor=fenics_field(val_x,val_y)\n",
    "                lista.append(valor)\n",
    "            except:\n",
    "                lista.append(0)\n",
    "\n",
    "            if len(lista) == space_size:\n",
    "                field_array = np.append(field_array, np.array([lista]), axis=0)\n",
    "                if val_x < space_size:\n",
    "                    lista = []\n",
    "    N_field = \"matrix_\"  + field_name +\"_\"+ str(step) + \"_\" + \"nb_\" + str(nb) + \".txt\"\n",
    "    np.savetxt(N_field, field_array, delimiter=\"\\t\")\n",
    "    return None"
   ]
  },
  {
   "cell_type": "code",
   "execution_count": 7,
   "id": "eab9d667-678b-4006-a563-b590c9f0a839",
   "metadata": {},
   "outputs": [],
   "source": [
    "def plot_fields(field_1, field_2, field_3):\n",
    "    plt.figure(figsize=(15, 8))\n",
    "\n",
    "    plt.subplot(1, 3, 1)\n",
    "    p1 = plot(field_1)\n",
    "    p1.set_cmap(\"seismic\")\n",
    "    plt.title(f'Solution for c at time {t:.3f}')\n",
    "    aspect = 20\n",
    "    pad_fraction = 0.5\n",
    "    ax = plt.gca()\n",
    "    divider = make_axes_locatable(ax)\n",
    "    width = axes_size.AxesY(ax, aspect=1./aspect)\n",
    "    pad = axes_size.Fraction(pad_fraction, width)\n",
    "    cax = divider.append_axes(\"right\", size=width, pad=pad)\n",
    "    plt.colorbar(p1, cax=cax)\n",
    "\n",
    "\n",
    "    plt.subplot(1, 3, 2)\n",
    "    p2 = plot(field_2)\n",
    "    p2.set_cmap(\"gray\")\n",
    "    plt.title(f'Solution for s at time {t:.3f}')\n",
    "    aspect = 20\n",
    "    pad_fraction = 0.5\n",
    "    ax = plt.gca()\n",
    "    divider = make_axes_locatable(ax)\n",
    "    width = axes_size.AxesY(ax, aspect=1./aspect)\n",
    "    pad = axes_size.Fraction(pad_fraction, width)\n",
    "    cax = divider.append_axes(\"right\", size=width, pad=pad)\n",
    "    plt.colorbar(p2, cax=cax)\n",
    "    \n",
    "    plt.subplot(1, 3, 3)\n",
    "    p3 = plot(field_3)\n",
    "    p3.set_cmap(\"viridis\")\n",
    "    plt.title(f'Solution for i at time {t:.3f}')\n",
    "    aspect = 20\n",
    "    pad_fraction = 0.5\n",
    "    ax = plt.gca()\n",
    "    divider = make_axes_locatable(ax)\n",
    "    width = axes_size.AxesY(ax, aspect=1./aspect)\n",
    "    pad = axes_size.Fraction(pad_fraction, width)\n",
    "    cax = divider.append_axes(\"right\", size=width, pad=pad)\n",
    "    plt.colorbar(p3, cax=cax)\n",
    "\n",
    "    plt.tight_layout(pad=4)\n",
    "    plt.show()"
   ]
  },
  {
   "cell_type": "code",
   "execution_count": 8,
   "id": "33197742-f43b-411f-9f7b-bcbaf0de33bc",
   "metadata": {},
   "outputs": [],
   "source": [
    "def create_space_function(space_size, nodes_in_xaxis, nodes_in_yaxis):\n",
    "\n",
    "    # Create mesh and define function space\n",
    "    p0 = Point(0.0, 0.0)\n",
    "    p1 = Point(space_size,space_size)\n",
    "    mesh = RectangleMesh(p0, p1, 100, 100,\"right/left\")\n",
    "\n",
    "    V = FunctionSpace(mesh, 'P', 1)\n",
    "    return V\n",
    "\n"
   ]
  },
  {
   "cell_type": "code",
   "execution_count": 9,
   "id": "725e0253-54d2-405d-9a21-ade969f78cdc",
   "metadata": {},
   "outputs": [
    {
     "data": {
      "text/plain": [
       "30"
      ]
     },
     "execution_count": 9,
     "metadata": {},
     "output_type": "execute_result"
    }
   ],
   "source": [
    "space_size"
   ]
  },
  {
   "cell_type": "code",
   "execution_count": 10,
   "id": "aeFP5aC2rjaS",
   "metadata": {
    "executionInfo": {
     "elapsed": 6,
     "status": "ok",
     "timestamp": 1704870985810,
     "user": {
      "displayName": "Erick serrato garcia",
      "userId": "14898483939533670725"
     },
     "user_tz": 360
    },
    "id": "aeFP5aC2rjaS"
   },
   "outputs": [],
   "source": [
    "def solve_dynamics():\n",
    "\n",
    "    # Define functions for c, s, and i\n",
    "    V = create_space_function(space_size, nodes_in_xaxis, nodes_in_yaxis)\n",
    "\n",
    "    c = Function(V)\n",
    "    s = Function(V)\n",
    "    i = Function(V)\n",
    "    phi_c = TestFunction(V)\n",
    "    phi_s = TestFunction(V)\n",
    "    phi_i = TestFunction(V)\n",
    "\n",
    "    # Define the Jacobian, variational problem and solver for each problem\n",
    "    # # Define the weak forms for the equations with time dependence\n",
    "\n",
    "    c_n = interpolate(RandomExpression(min_val=0.2, max_val=0.4, degree=2), V)\n",
    "\n",
    "    F_c = ((c - c_n) / dt) * phi_c * dx + D_c * dot(grad(c), grad(phi_c)) * dx + rc * c * (c - alle) * (1 - c) * phi_c * dx - c*(s*alpha + i*beta)* phi_c * dx - (((s**2*gamma + i**2*eta)*mu)/2 )* phi_c * dx\n",
    "\n",
    "    solver_c = NonlinearSolver(F_c, c)\n",
    "\n",
    "\n",
    "\n",
    "    s_n = interpolate(RandomExpression(min_val=0.8, max_val=1.2, degree=2), V)\n",
    "\n",
    "    F_s = ((s - s_n) / dt) * phi_s * dx + D_s * dot(grad(s), grad(phi_s)) * dx + rs * s * (1 - s) * phi_s * dx - c*s*gamma* phi_s * dx + i**2*s*delta* phi_s * dx - ((c**2*alpha*mu)/2) * phi_s * dx\n",
    "    \n",
    "    solver_s = NonlinearSolver(F_s, s)\n",
    "\n",
    "\n",
    "    i_n = interpolate(RandomExpression(min_val=0.3, max_val=0.5, degree=2), V)\n",
    "\n",
    "    F_i = ((i - i_n) / dt) * phi_i * dx + D_i * dot(grad(i), grad(phi_i)) * dx + rd * i * (1 - i)* phi_i * dx + i*s**2*delta* phi_i * dx - c*i*eta* phi_i * dx - ((c**2*beta*mu)/2)* phi_i * dx\n",
    "\n",
    "    solver_i = NonlinearSolver(F_i, i)\n",
    "    \n",
    "    return solver_c, solver_s, solver_i, c, s, i, c_n, s_n, i_n, dx"
   ]
  },
  {
   "cell_type": "code",
   "execution_count": 11,
   "id": "937d112b-f710-4ed1-b28c-ac4f90d15086",
   "metadata": {},
   "outputs": [],
   "source": [
    "#def c_s_i_integral(c, s, i, dx, dt):\n",
    "#    # Create mesh and define function space\n",
    "#    p0 = Point(0.0, 0.0)\n",
    "#    p1 = Point(space_size,space_size)\n",
    "#    mesh = RectangleMesh(p0, p1, 150, 150,\"right/left\")\n",
    "        \n",
    "#     dx_measure = Measure('dx', domain=mesh)\n",
    "#     dx_numeric = assemble(1*dx_measure)\n",
    "#    \n",
    "#    c_int = assemble(c*dx)\n",
    "#    s_int = assemble(s*dx)\n",
    "#    i_int = assemble(i*dx)\n",
    "#    return c_int, s_int, i_int"
   ]
  },
  {
   "cell_type": "code",
   "execution_count": 12,
   "id": "3176c286-c115-4d12-b742-0a5a4be39099",
   "metadata": {},
   "outputs": [],
   "source": [
    "def plot_integral(array, campo, block):\n",
    "    x = array[:,0]\n",
    "    y = array[:, 1]\n",
    "    # Crear el gráfico\n",
    "    plt.plot(x, y, label='Integral de {campo}'.format(campo=campo), marker='o')\n",
    "    # Add labels and a legend\n",
    "    plt.xlabel('time step')\n",
    "    plt.ylabel('{campo}'.format(campo=campo))\n",
    "    plt.legend()\n",
    "    plt.show()\n",
    "    array = array.astype(float)\n",
    "    #np.savetxt('int_{campo}_{block}.txt'.format(campo=campo, block=block), array) "
   ]
  },
  {
   "cell_type": "code",
   "execution_count": null,
   "id": "NHJFnsBXVjdD",
   "metadata": {
    "colab": {
     "base_uri": "https://localhost:8080/",
     "height": 1000
    },
    "id": "NHJFnsBXVjdD",
    "outputId": "536bd9e6-8a2e-4179-8b65-b67ce1ae13fd"
   },
   "outputs": [
    {
     "name": "stdout",
     "output_type": "stream",
     "text": [
      "WARNING: user expression has not supplied value_shape method or an element. Assuming scalar element.\n",
      "WARNING: user expression has not supplied value_shape method or an element. Assuming scalar element.\n",
      "WARNING: user expression has not supplied value_shape method or an element. Assuming scalar element.\n",
      "bloque 1\n",
      "0.001\n",
      "0.002\n",
      "0.003\n",
      "0.004\n",
      "0.005\n",
      "0.006\n",
      "0.007\n",
      "0.008\n",
      "0.009000000000000001\n",
      "0.010000000000000002\n",
      "0.011000000000000003\n",
      "0.012000000000000004\n",
      "0.013000000000000005\n",
      "0.014000000000000005\n",
      "0.015000000000000006\n",
      "0.016000000000000007\n",
      "0.017000000000000008\n",
      "0.01800000000000001\n",
      "0.01900000000000001\n",
      "0.02000000000000001\n",
      "0.02100000000000001\n",
      "0.022000000000000013\n",
      "0.023000000000000013\n",
      "0.024000000000000014\n",
      "0.025000000000000015\n",
      "0.026000000000000016\n",
      "0.027000000000000017\n"
     ]
    }
   ],
   "source": [
    "for block in range(1,nb+1):\n",
    "    # Time-stepping\n",
    "    t = 0\n",
    "    solver_c, solver_s, solver_i, c, s, i, c_n, s_n, i_n, dx = solve_dynamics()\n",
    "    print('bloque',block)\n",
    "    \n",
    "#     c_int, s_int, i_int = c_s_i_integral(c, s, i, dx, 0)\n",
    "\n",
    "#     c_int_array = np.zeros((1,2))\n",
    "#     c_int_array[0][0] = \"{:.2f}\".format(t)\n",
    "#     c_int_array[0][1] = c_int   \n",
    "\n",
    "#     s_int_array = np.zeros((1,2))\n",
    "#     s_int_array[0][0] = \"{:.2f}\".format(t)\n",
    "#     s_int_array[0][1] = s_int   \n",
    "\n",
    "#     i_int_array = np.zeros((1,2))\n",
    "#     i_int_array[0][0] = \"{:.2f}\".format(t)\n",
    "#     i_int_array[0][1] = i_int   \n",
    "    \n",
    "    while (t < T):\n",
    "        t += dt\n",
    "        print(t)\n",
    "\n",
    "        # Solve the system for the next time step\n",
    "        solver_c.solve()\n",
    "        solver_s.solve()\n",
    "        solver_i.solve()\n",
    "\n",
    "        # Update previous solution\n",
    "        c_n.assign(c)\n",
    "        s_n.assign(s)\n",
    "        i_n.assign(i)\n",
    "        # c_int, s_int, i_int = c_s_i_integral(c, s, i, dx,dt)\n",
    "        \n",
    "#         c_int_array = np.vstack([c_int_array, np.array([\"{:.2f}\".format(t), c_int])])\n",
    "#         s_int_array = np.vstack([s_int_array, np.array([\"{:.2f}\".format(t), s_int])])\n",
    "#         i_int_array = np.vstack([i_int_array, np.array([\"{:.2f}\".format(t), i_int])])\n",
    "\n",
    "        field_to_numpy_array(c, space_size, \"{:.3f}\".format(t), \"c\", block)\n",
    "        field_to_numpy_array(s, space_size, \"{:.3f}\".format(t), \"s\", block)\n",
    "        field_to_numpy_array(i, space_size, \"{:.3f}\".format(t), \"i\", block)\n",
    "        #plot_fields(c_n, s_n, i_n)\n"
   ]
  },
  {
   "cell_type": "code",
   "execution_count": null,
   "id": "4dedbb2e-eec1-45cb-a901-5706ba15344b",
   "metadata": {},
   "outputs": [],
   "source": [
    "# plot_integral(c_int_array, 'c', block)"
   ]
  },
  {
   "cell_type": "code",
   "execution_count": null,
   "id": "7dffca9f-e2a4-4976-8609-9b1457cb951c",
   "metadata": {},
   "outputs": [],
   "source": [
    "# plot_integral(s_int_array, 's', block)"
   ]
  },
  {
   "cell_type": "code",
   "execution_count": null,
   "id": "3f9c6d99-5792-4ddc-87ff-9be4e8a752ae",
   "metadata": {},
   "outputs": [],
   "source": [
    "# plot_integral(i_int_array, 's', block)"
   ]
  },
  {
   "cell_type": "code",
   "execution_count": null,
   "id": "c04989ff-460d-457b-9b2d-3d4a6dd937dc",
   "metadata": {},
   "outputs": [],
   "source": [
    "# print(assemble(s*dx))"
   ]
  },
  {
   "cell_type": "code",
   "execution_count": null,
   "id": "4abde797-8364-448a-8576-eccfb1e2037e",
   "metadata": {},
   "outputs": [],
   "source": []
  }
 ],
 "metadata": {
  "colab": {
   "provenance": []
  },
  "kernelspec": {
   "display_name": "Python 3 (ipykernel)",
   "language": "python",
   "name": "python3"
  },
  "language_info": {
   "codemirror_mode": {
    "name": "ipython",
    "version": 3
   },
   "file_extension": ".py",
   "mimetype": "text/x-python",
   "name": "python",
   "nbconvert_exporter": "python",
   "pygments_lexer": "ipython3",
   "version": "3.9.7"
  }
 },
 "nbformat": 4,
 "nbformat_minor": 5
}
