{
 "cells": [
  {
   "cell_type": "code",
   "execution_count": null,
   "id": "9946b86e-9d7f-49b4-b42f-fa760b71fdc9",
   "metadata": {
    "colab": {
     "base_uri": "https://localhost:8080/"
    },
    "executionInfo": {
     "elapsed": 153,
     "status": "ok",
     "timestamp": 1704744910239,
     "user": {
      "displayName": "Erick serrato garcia",
      "userId": "14898483939533670725"
     },
     "user_tz": 360
    },
    "id": "9946b86e-9d7f-49b4-b42f-fa760b71fdc9",
    "outputId": "9ac4c566-fd6a-41c5-cd12-0cf0f3423441"
   },
   "outputs": [],
   "source": [
    "\n",
    "!wget \"https://fem-on-colab.github.io/releases/fenics-install.sh\" -O \"/tmp/fenics-install.sh\" && bash \"/tmp/fenics-install.sh\"\n",
    "# !apt-get install software-properties-common\n",
    "# !add-apt-repository ppa:fenics-packages/fenics\n",
    "# !apt-get update -qq\n",
    "# !apt-get install fenics"
   ]
  },
  {
   "cell_type": "code",
   "execution_count": null,
   "id": "2S6SMN3DS-C0",
   "metadata": {
    "id": "2S6SMN3DS-C0"
   },
   "outputs": [],
   "source": [
    "from fenics import *\n",
    "import matplotlib.pyplot as plt\n",
    "from mpl_toolkits.axes_grid1 import make_axes_locatable, axes_size\n",
    "set_log_level(30)\n"
   ]
  },
  {
   "cell_type": "code",
   "execution_count": null,
   "id": "A2qd4VgT9MyF",
   "metadata": {
    "id": "A2qd4VgT9MyF"
   },
   "outputs": [],
   "source": [
    "# Create mesh and define function space\n",
    "# mesh = UnitSquareMesh(32, 32)\n",
    "space_size = 50  # For example, space size = 1.0\n",
    "p0 = Point(0.0, 0.0)\n",
    "p1 = Point(space_size,space_size)\n",
    "mesh = RectangleMesh(p0, p1, 50, 50,\"right/left\")\n",
    "\n",
    "V = FunctionSpace(mesh, 'P', 1)"
   ]
  },
  {
   "cell_type": "code",
   "execution_count": null,
   "id": "LOI1OUU-u2Na",
   "metadata": {
    "id": "LOI1OUU-u2Na"
   },
   "outputs": [],
   "source": [
    "# Define functions for c, s, and i\n",
    "c = Function(V)\n",
    "s = Function(V)\n",
    "i = Function(V)\n",
    "phi_c = TestFunction(V)\n",
    "phi_s = TestFunction(V)\n",
    "phi_i = TestFunction(V)\n"
   ]
  },
  {
   "cell_type": "code",
   "execution_count": null,
   "id": "VjCP5bNhM1dk",
   "metadata": {
    "id": "VjCP5bNhM1dk"
   },
   "outputs": [],
   "source": [
    "# Define constants alpha and beta\n",
    "D_c = Constant(0.01)\n",
    "D_s = Constant(0.09)\n",
    "D_i = Constant(0.05)\n",
    "ri = Constant(0.595)\n",
    "rs = Constant(0.6)\n",
    "gamma = Constant(0.054)\n",
    "delta = Constant(0.012)\n",
    "alpha = Constant(0.33)\n",
    "beta = Constant(0.06)\n",
    "alle = Constant(1)\n",
    "eta = Constant(0.365)"
   ]
  },
  {
   "cell_type": "code",
   "execution_count": null,
   "id": "FVLQZ1NnVjT1",
   "metadata": {
    "colab": {
     "base_uri": "https://localhost:8080/"
    },
    "executionInfo": {
     "elapsed": 5,
     "status": "ok",
     "timestamp": 1704744911294,
     "user": {
      "displayName": "Erick serrato garcia",
      "userId": "14898483939533670725"
     },
     "user_tz": 360
    },
    "id": "FVLQZ1NnVjT1",
    "outputId": "6d65b6fb-932c-4a3c-cb71-cd47a06e64f6"
   },
   "outputs": [],
   "source": [
    "\n",
    "# Define time step and time interval\n",
    "T = 1   # final time\n",
    "num_steps = 100  # number of time steps\n",
    "dt = T / num_steps  # time step size\n",
    "print(dt)"
   ]
  },
  {
   "cell_type": "code",
   "execution_count": null,
   "id": "7WhpSo_YVjWT",
   "metadata": {
    "id": "7WhpSo_YVjWT"
   },
   "outputs": [],
   "source": [
    "c_n = interpolate(Expression(\"rand()\", degree=2), V)\n",
    "s_n = interpolate(Expression(\"rand()\", degree=2), V)\n",
    "i_n = interpolate(Expression(\"rand()\", degree=2), V)"
   ]
  },
  {
   "cell_type": "code",
   "execution_count": null,
   "id": "9R5gSE5AVjYg",
   "metadata": {
    "id": "9R5gSE5AVjYg"
   },
   "outputs": [],
   "source": [
    "# Define the weak forms for the equations with time dependence\n",
    "F_c = ((c - c_n) / dt) * phi_c * dx + D_c * dot(grad(c), grad(phi_c)) * dx + \\\n",
    "      c * (c - alle) * (1 - c) * phi_c * dx - alpha * c * s * phi_c * dx - beta * i * c * phi_c * dx\n",
    "\n",
    "F_s = ((s - s_n) / dt) * phi_s * dx + D_s * dot(grad(s), grad(phi_s)) * dx + \\\n",
    "      s * (1 - s) * (s - gamma * c) * phi_s * dx - delta * s * i * phi_s * dx\n",
    "\n",
    "F_i = ((i - i_n) / dt) * phi_i * dx + D_i * dot(grad(i), grad(phi_i)) * dx + \\\n",
    "      i * (1 - i) * (i - eta * c * i) * phi_i * dx"
   ]
  },
  {
   "cell_type": "code",
   "execution_count": null,
   "id": "Nh4b1kfDVjax",
   "metadata": {
    "id": "Nh4b1kfDVjax"
   },
   "outputs": [],
   "source": [
    "# Define functions for plotting\n",
    "c_plot = Function(V)\n",
    "s_plot = Function(V)\n",
    "i_plot = Function(V)"
   ]
  },
  {
   "cell_type": "code",
   "execution_count": null,
   "id": "r_RuMpv6f3Qz",
   "metadata": {
    "id": "r_RuMpv6f3Qz"
   },
   "outputs": [],
   "source": [
    "# Time-stepping\n",
    "t = 0"
   ]
  },
  {
   "cell_type": "code",
   "execution_count": null,
   "id": "yn4YPueBhY2J",
   "metadata": {
    "id": "yn4YPueBhY2J"
   },
   "outputs": [],
   "source": []
  },
  {
   "cell_type": "code",
   "execution_count": null,
   "id": "NHJFnsBXVjdD",
   "metadata": {
    "colab": {
     "base_uri": "https://localhost:8080/",
     "height": 1000,
     "output_embedded_package_id": "15t6B8jVb7rqY7HcX5P1CDXloT9BXI2cP"
    },
    "executionInfo": {
     "elapsed": 537250,
     "status": "error",
     "timestamp": 1704745448785,
     "user": {
      "displayName": "Erick serrato garcia",
      "userId": "14898483939533670725"
     },
     "user_tz": 360
    },
    "id": "NHJFnsBXVjdD",
    "outputId": "0a8c2d0e-31bc-44cb-d8bd-1e4a653e7adf"
   },
   "outputs": [],
   "source": [
    "while (t < T):\n",
    "    print(t)\n",
    "    t += dt\n",
    "\n",
    "    # Solve the system for the next time step\n",
    "    solve(F_c == 0, c)\n",
    "    solve(F_s == 0, s)\n",
    "    solve(F_i == 0, i)\n",
    "\n",
    "    # Update previous solution\n",
    "    c_n.assign(c)\n",
    "    s_n.assign(s)\n",
    "    i_n.assign(i)\n",
    "\n",
    "    # Plot the solutions at each time step\n",
    "    c_plot.assign(c_n)\n",
    "    s_plot.assign(s_n)\n",
    "    i_plot.assign(i_n)\n",
    "\n",
    "\n",
    "    plt.figure(figsize=(20, 10))\n",
    "\n",
    "    plt.subplot(1, 3, 1)\n",
    "    p1 = plot(c_plot)\n",
    "    p1.set_cmap(\"seismic\")\n",
    "    plt.title(f'Solution for c at time {t:.2f}')\n",
    "    aspect = 20\n",
    "    pad_fraction = 0.5\n",
    "    ax = plt.gca()\n",
    "    divider = make_axes_locatable(ax)\n",
    "    width = axes_size.AxesY(ax, aspect=1./aspect)\n",
    "    pad = axes_size.Fraction(pad_fraction, width)\n",
    "    cax = divider.append_axes(\"right\", size=width, pad=pad)\n",
    "    plt.colorbar(p1, cax=cax)\n",
    "\n",
    "\n",
    "    plt.subplot(1, 3, 2)\n",
    "    p2 = plot(s_plot)\n",
    "    p2.set_cmap(\"gray\")\n",
    "    plt.title(f'Solution for s at time {t:.2f}')\n",
    "    aspect = 20\n",
    "    pad_fraction = 0.5\n",
    "    ax = plt.gca()\n",
    "    divider = make_axes_locatable(ax)\n",
    "    width = axes_size.AxesY(ax, aspect=1./aspect)\n",
    "    pad = axes_size.Fraction(pad_fraction, width)\n",
    "    cax = divider.append_axes(\"right\", size=width, pad=pad)\n",
    "    plt.colorbar(p2, cax=cax)\n",
    "\n",
    "    plt.subplot(1, 3, 3)\n",
    "    p3 = plot(i_plot)\n",
    "    p3.set_cmap(\"gray\")\n",
    "    plt.title(f'Solution for i at time {t:.2f}')\n",
    "    aspect = 20\n",
    "    pad_fraction = 0.5\n",
    "    ax = plt.gca()\n",
    "    divider = make_axes_locatable(ax)\n",
    "    width = axes_size.AxesY(ax, aspect=1./aspect)\n",
    "    pad = axes_size.Fraction(pad_fraction, width)\n",
    "    cax = divider.append_axes(\"right\", size=width, pad=pad)\n",
    "    plt.colorbar(p3, cax=cax)\n",
    "\n",
    "    plt.tight_layout(pad=4)\n",
    "    plt.show()\n"
   ]
  },
  {
   "cell_type": "code",
   "execution_count": null,
   "id": "G0jktC2NVjhR",
   "metadata": {
    "id": "G0jktC2NVjhR"
   },
   "outputs": [],
   "source": []
  },
  {
   "cell_type": "code",
   "execution_count": null,
   "id": "ldLr1znAVjj1",
   "metadata": {
    "id": "ldLr1znAVjj1"
   },
   "outputs": [],
   "source": []
  }
 ],
 "metadata": {
  "colab": {
   "provenance": []
  },
  "kernelspec": {
   "display_name": "Python 3 (ipykernel)",
   "language": "python",
   "name": "python3"
  },
  "language_info": {
   "codemirror_mode": {
    "name": "ipython",
    "version": 3
   },
   "file_extension": ".py",
   "mimetype": "text/x-python",
   "name": "python",
   "nbconvert_exporter": "python",
   "pygments_lexer": "ipython3",
   "version": "3.9.7"
  }
 },
 "nbformat": 4,
 "nbformat_minor": 5
}
