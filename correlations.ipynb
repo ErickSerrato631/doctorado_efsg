{
 "cells": [
  {
   "cell_type": "code",
   "execution_count": null,
   "id": "a33b2e08-f216-48fb-9c38-6a8ebd40fdfd",
   "metadata": {},
   "outputs": [],
   "source": [
    "import matplotlib.pyplot as plt\n",
    "from matplotlib import cm\n",
    "from mpl_toolkits.mplot3d.axes3d import get_test_data\n",
    "from fenics import *\n",
    "from mshr import *\n",
    "import numpy as np\n",
    "from dotenv import load_dotenv\n",
    "import os\n",
    "\n",
    "# Cargar las variables del archivo .env\n",
    "load_dotenv()"
   ]
  },
  {
   "cell_type": "code",
   "execution_count": null,
   "id": "5dc257b1-1f47-4630-af96-7b2d6daee10a",
   "metadata": {},
   "outputs": [],
   "source": [
    "os.chdir(os.getenv('TEST_DIRECTORY'))\n",
    "save_images = os.getenv('SAVE_IMAGES')"
   ]
  },
  {
   "cell_type": "code",
   "execution_count": null,
   "id": "03a71bf4-fcd1-4cc1-90e6-99651f7fcda5",
   "metadata": {},
   "outputs": [],
   "source": [
    "def correlation_2D(step):\n",
    "    #obten el módulo del promedio del espectro de potencias\n",
    "    abs_c = \"FFT_\" + \"c_\" + \"{:.3f}\".format(step) + \".txt\"\n",
    "    abs_s = \"FFT_\" + \"s_\" + \"{:.3f}\".format(step) + \".txt\"\n",
    "    abs_i = \"FFT_\" + \"i_\" + \"{:.3f}\".format(step) + \".txt\"\n",
    "    \n",
    "    mod_c = np.loadtxt(abs_c, float)\n",
    "    mod_s = np.loadtxt(abs_s, float)\n",
    "    mod_i = np.loadtxt(abs_i, float)\n",
    "    \n",
    "    # calcula la inversa del modulo al cuadrado\n",
    "    c2_inv = np.fft.ifftn(mod_c**2)\n",
    "    max_fft_c2_inv = np.where(c2_inv == c2_inv.max())\n",
    "    c2_inv[max_fft_c2_inv[0][0],max_fft_c2_inv[1][0]] = 0   \n",
    "    \n",
    "    s2_inv = np.fft.ifftn(mod_s**2)\n",
    "    max_fft_s2_inv = np.where(s2_inv == s2_inv.max())\n",
    "    s2_inv[max_fft_s2_inv[0][0],max_fft_s2_inv[1][0]] = 0\n",
    "\n",
    "    i2_inv = np.fft.ifftn(mod_i**2)\n",
    "    max_fft_i2_inv = np.where(i2_inv == i2_inv.max())\n",
    "    i2_inv[max_fft_i2_inv[0][0],max_fft_i2_inv[1][0]] = 0\n",
    "    \n",
    "\n",
    "    cs_inv = np.fft.ifftn(mod_c*mod_s)\n",
    "    max_fft_cs_inv = np.where(cs_inv == cs_inv.max())\n",
    "    cs_inv[max_fft_cs_inv[0][0],max_fft_cs_inv[1][0]] = 0\n",
    "    \n",
    "    ci_inv = np.fft.ifftn(mod_c*mod_i)\n",
    "    max_fft_ci_inv = np.where(ci_inv == ci_inv.max())\n",
    "    ci_inv[max_fft_ci_inv[0][0],max_fft_ci_inv[1][0]] = 0\n",
    "    \n",
    "    si_inv = np.fft.ifftn(mod_s*mod_i)\n",
    "    max_fft_si_inv = np.where(si_inv == si_inv.max())\n",
    "    si_inv[max_fft_si_inv[0][0],max_fft_si_inv[1][0]] = 0\n",
    " \n",
    "    #Desplace el componente de frecuencia cero al centro del espectro.\n",
    "    c2_inv = np.fft.fftshift(c2_inv)\n",
    "    s2_inv = np.fft.fftshift(s2_inv)\n",
    "    i2_inv = np.fft.fftshift(i2_inv)\n",
    "    cs_inv = np.fft.fftshift(cs_inv)\n",
    "    ci_inv = np.fft.fftshift(ci_inv)\n",
    "    si_inv = np.fft.fftshift(si_inv)\n",
    "\n",
    "    # Obten el valor absoluto de la tranformada inversa\n",
    "    file_abs_c  = np.abs(c2_inv)\n",
    "    file_abs_s  = np.abs(s2_inv)\n",
    "    file_abs_i  = np.abs(i2_inv)\n",
    "\n",
    "    file_abs_cs = np.abs(cs_inv)\n",
    "    file_abs_ci = np.abs(ci_inv)\n",
    "    file_abs_si = np.abs(si_inv)\n",
    " \n",
    "\n",
    "    mean_c = np.mean(file_abs_c)\n",
    "    mean_s = np.mean(file_abs_s)\n",
    "    mean_i = np.mean(file_abs_i)\n",
    "    \n",
    "    std_c = np.std(mod_c)\n",
    "    std_s =  np.std(mod_s)\n",
    "    std_i =  np.std(mod_i)\n",
    "    \n",
    "    #Calcula las correlaciones\n",
    "    corr_cc = (file_abs_c - mean_c**2) / (std_c*std_c)\n",
    "    corr_ss = (file_abs_s - mean_s**2) / (std_s*std_s)\n",
    "    corr_ii = (file_abs_i - mean_i**2) / (std_i*std_i)\n",
    "\n",
    "    \n",
    "    corr_cs = (file_abs_cs - mean_c*mean_s) / (std_c*std_s)\n",
    "    corr_ci = (file_abs_ci - mean_c*mean_i) / (std_c*std_i)\n",
    "    corr_si = (file_abs_si - mean_s*mean_i) / (std_s*std_i)\n",
    "\n",
    "    \n",
    "    matrix_corr_cc_file = \"matrix_corr\" + \"_cc_\" + \"{:.3f}\".format(step) + \".txt\"\n",
    "    np.savetxt(matrix_corr_cc_file, corr_cc, delimiter=\"\\t\")\n",
    "    matrix_corr_ss_file = \"matrix_corr\" + \"_ss_\" + \"{:.3f}\".format(step) + \".txt\"\n",
    "    np.savetxt(matrix_corr_ss_file, corr_ss, delimiter=\"\\t\")\n",
    "    matrix_corr_ii_file = \"matrix_corr\" + \"_ii_\" + \"{:.3f}\".format(step) + \".txt\"\n",
    "    np.savetxt(matrix_corr_ii_file, corr_ii, delimiter=\"\\t\")\n",
    "    matrix_corr_cs_file = \"matrix_corr\" + \"_cs_\" + \"{:.3f}\".format(step) + \".txt\"\n",
    "    np.savetxt(matrix_corr_cs_file, corr_cs, delimiter=\"\\t\")\n",
    "    matrix_corr_ci_file = \"matrix_corr\" + \"_ci_\" + \"{:.3f}\".format(step) + \".txt\"\n",
    "    np.savetxt(matrix_corr_ci_file, corr_ci, delimiter=\"\\t\")\n",
    "    matrix_corr_si_file = \"matrix_corr\" + \"_si_\" + \"{:.3f}\".format(step) + \".txt\"\n",
    "    np.savetxt(matrix_corr_si_file, corr_si, delimiter=\"\\t\")\n",
    "\n",
    "    return None"
   ]
  },
  {
   "cell_type": "code",
   "execution_count": null,
   "id": "717b4054-ae6b-42f1-ab49-2c143066b5e1",
   "metadata": {},
   "outputs": [],
   "source": [
    "def polar_mean(step, corr_type):\n",
    "    matrix_file = \"matrix_corr_\" + corr_type + \"_\" + \"{:.3f}\".format(step) + \".txt\"\n",
    "    matrix = np.loadtxt(matrix_file, float)\n",
    "    n = len(matrix)  \n",
    "    dk = 1.0\n",
    "    p = np.zeros(int(n/2))\n",
    "    for i in range(1,int(n/2)): \n",
    "        k = dk*i\n",
    "        suma = 0.\n",
    "        dtheta = np.pi/90. # two degrees\n",
    "\n",
    "        for j in range (1,180):\n",
    "            theta = j * dtheta    \n",
    "            nx = int(k*np.cos(theta)/dk - n/2)\n",
    "            ny = int(k*np.sin(theta)/dk - n/2)\n",
    "            suma += matrix[nx,ny]        \n",
    "        p[i] = suma/180.\n",
    "\n",
    "    filename = \"correlation_\" + corr_type + \"_\" + \"{:.3f}\".format(step) + \".txt\"         \n",
    "    np.savetxt(filename, p, delimiter=\"\\n\")\n",
    "    return None"
   ]
  },
  {
   "cell_type": "code",
   "execution_count": null,
   "id": "a77af71f-d266-4369-b8d8-b968d720cfe1",
   "metadata": {},
   "outputs": [],
   "source": [
    "def get_correlation(step, corr_type):\n",
    "    file = \"correlation_\"+corr_type+\"_\"+\"{:.3f}\".format(step)+\".txt\"\n",
    "    corr = np.loadtxt(file, float)\n",
    "    \n",
    "    return corr"
   ]
  },
  {
   "cell_type": "code",
   "execution_count": null,
   "id": "94490f3a-649e-48b5-9b0c-c882a5122278",
   "metadata": {},
   "outputs": [],
   "source": [
    "def plot_correlations_3d(corr_type, time_steps, dt):\n",
    "    fig = plt.figure(figsize=(15,15))\n",
    "    ax = plt.axes(projection='3d')\n",
    "    \n",
    "    file = \"correlation_\"+corr_type+\"_\"+\"{:.3f}\".format(dt)+\".txt\"\n",
    "    corr = np.loadtxt(file, float)\n",
    "\n",
    "    # plot a 3D surface like in the example mplot3d/surface3d_demo\n",
    "    X = np.arange(0, len(corr), 1)\n",
    "    Y = np.arange(dt, time_steps, dt)\n",
    "    X, Y = np.meshgrid(X, Y)\n",
    "    Z = np.array([get_correlation(i, corr_type) for i in np.arange(dt, time_steps, dt)])\n",
    "\n",
    "    surf = ax.plot_surface(X, Y, Z, rstride=5, cstride=1, alpha=1, cmap='Reds', linewidth=0.3, edgecolors='black')\n",
    "    fig.colorbar(surf, shrink=0.3, aspect=8, location='left', ax=ax)\n",
    "\n",
    "    ax.view_init(len(corr), 55)\n",
    "#    ax.set_zlim(bottom=0)\n",
    "    ax.set_xlim(0,len(corr))\n",
    "    ax.set_ylim(0,time_steps)\n",
    "\n",
    "    ax.set_xlabel('Number wave \"r\"', fontsize=15)\n",
    "    ax.set_ylabel('Time step', fontsize=15)\n",
    "    ax.set_zlabel('P(k,t)', fontsize=15)\n",
    "    if save_images == 'Y':\n",
    "        plt.savefig(\"correlations_3D_{}.png\".format(corr_type))\n",
    "        #plt.show()\n",
    "        pass\n",
    "    else:\n",
    "        #plt.show()\n",
    "        pass"
   ]
  },
  {
   "cell_type": "code",
   "execution_count": null,
   "id": "c4002ece-9f08-4c0c-ad20-e45d4db4b208",
   "metadata": {},
   "outputs": [],
   "source": [
    "def plot_contour(corr_type, time_steps, dt):\n",
    "    fig, ax = plt.subplots(figsize=(12,6))\n",
    "    \n",
    "    file = \"correlation_\"+corr_type+\"_\"+\"{:.3f}\".format(dt)+\".txt\"\n",
    "    corr = np.loadtxt(file, float)\n",
    "\n",
    "    # plot a 3D surface like in the example mplot3d/surface3d_demo\n",
    "    Y = np.arange(dt, time_steps, dt)\n",
    "    X = np.arange(0, len(corr), 1)\n",
    "    X,Y  = np.meshgrid(X, Y)\n",
    "    Z = np.array([get_correlation(i, corr_type) for i in np.arange(dt, time_steps, dt)])\n",
    "    \n",
    "    CS = ax.contour(X, Y, Z, levels = [0.25, 0.5, 0.75])\n",
    "    ax.clabel(CS, inline=True, fontsize=10)\n",
    "    ax.set_title('Correlation length' + ' ' + corr_type)\n",
    "    \n",
    "    #ax.set_ylim(0,20)\n",
    "\n",
    "    if save_images == 'Y':\n",
    "        plt.savefig(\"correlations_length_{}.png\".format(corr_type))\n",
    "        return None\n",
    "    else:\n",
    "        return None\n",
    "        \n",
    "    "
   ]
  },
  {
   "cell_type": "code",
   "execution_count": null,
   "id": "fc79a871-b27b-42fd-a59c-017a4c0b0987",
   "metadata": {},
   "outputs": [],
   "source": [
    "# Define time parameters\n",
    "T = float(os.getenv('T'))\n",
    "dt = float(os.getenv('dt'))\n",
    "nb = int(os.getenv('nb'))"
   ]
  },
  {
   "cell_type": "code",
   "execution_count": null,
   "id": "974151f9-70e1-4f12-837f-d33c98eabd61",
   "metadata": {},
   "outputs": [],
   "source": [
    "t = dt\n",
    "while t < T:\n",
    "    correlation_2D(t)\n",
    "    t += dt"
   ]
  },
  {
   "cell_type": "code",
   "execution_count": null,
   "id": "7ec09735-c714-48fc-ab81-e4e362e98085",
   "metadata": {},
   "outputs": [],
   "source": [
    "t = dt\n",
    "while t < T:\n",
    "    polar_mean(t, \"cc\")\n",
    "    t += dt"
   ]
  },
  {
   "cell_type": "code",
   "execution_count": null,
   "id": "17b9f0ae-416b-4a54-8a71-1fe48cd24d6b",
   "metadata": {},
   "outputs": [],
   "source": [
    "plot_correlations_3d('cc', T, dt)"
   ]
  },
  {
   "cell_type": "code",
   "execution_count": null,
   "id": "98e5a2af-7f40-4f70-989a-921f751bccc0",
   "metadata": {},
   "outputs": [],
   "source": [
    "plot_contour('cc', T, dt)"
   ]
  },
  {
   "cell_type": "code",
   "execution_count": null,
   "id": "99c0f289-d3a8-4bfa-a106-a6e9b15be585",
   "metadata": {},
   "outputs": [],
   "source": [
    "t = dt\n",
    "while t < T:\n",
    "    polar_mean(t, \"ss\")\n",
    "    t += dt"
   ]
  },
  {
   "cell_type": "code",
   "execution_count": null,
   "id": "0cd7b000-79f1-4738-ae02-2c0c93c286d1",
   "metadata": {},
   "outputs": [],
   "source": [
    "plot_correlations_3d('ss', T, dt)"
   ]
  },
  {
   "cell_type": "code",
   "execution_count": null,
   "id": "1a7d7fdf-9883-40aa-908c-85b748181c57",
   "metadata": {},
   "outputs": [],
   "source": [
    "plot_contour('ss', T, dt)"
   ]
  },
  {
   "cell_type": "code",
   "execution_count": null,
   "id": "d5125791-8c8b-42c4-be50-ab15d63b5d3e",
   "metadata": {},
   "outputs": [],
   "source": [
    "t = dt\n",
    "while t < T:\n",
    "    polar_mean(t, \"ii\")\n",
    "    t += dt"
   ]
  },
  {
   "cell_type": "code",
   "execution_count": null,
   "id": "b250c518-9766-427a-b5cd-1b3037286fb1",
   "metadata": {},
   "outputs": [],
   "source": [
    "plot_correlations_3d('ii', T, dt)"
   ]
  },
  {
   "cell_type": "code",
   "execution_count": null,
   "id": "d41c1b1d-9a20-4fac-93b9-b70258c1b18a",
   "metadata": {},
   "outputs": [],
   "source": [
    "plot_contour('ii', T, dt)"
   ]
  },
  {
   "cell_type": "code",
   "execution_count": null,
   "id": "44af842f-ce5e-4d18-9202-9ee91df565b4",
   "metadata": {},
   "outputs": [],
   "source": [
    "t = dt\n",
    "while t < T:\n",
    "    polar_mean(t, \"cs\")\n",
    "    t += dt\n",
    "plot_correlations_3d('cs', T, dt)"
   ]
  },
  {
   "cell_type": "code",
   "execution_count": null,
   "id": "2a3a37ed-f09d-41a1-a949-fc27e69b31ce",
   "metadata": {},
   "outputs": [],
   "source": [
    "plot_contour('cs', T, dt)"
   ]
  },
  {
   "cell_type": "code",
   "execution_count": null,
   "id": "f39123ab-6f3b-44ba-8b3b-1ad5df02628c",
   "metadata": {},
   "outputs": [],
   "source": [
    "t = dt\n",
    "while t < T:\n",
    "    polar_mean(t, \"ci\")\n",
    "    t += dt\n",
    "plot_correlations_3d('ci', T, dt)"
   ]
  },
  {
   "cell_type": "code",
   "execution_count": null,
   "id": "1c04f3bb-deda-481f-809e-96fb04aaafa7",
   "metadata": {},
   "outputs": [],
   "source": [
    "plot_contour('ci', T, dt)"
   ]
  },
  {
   "cell_type": "code",
   "execution_count": null,
   "id": "edf904be-df88-45e2-b2e4-5f4e372b963c",
   "metadata": {},
   "outputs": [],
   "source": [
    "t = dt\n",
    "while t < T:\n",
    "    polar_mean(t, \"si\")\n",
    "    t += dt\n",
    "plot_correlations_3d('si', T, dt)"
   ]
  },
  {
   "cell_type": "code",
   "execution_count": null,
   "id": "014ca0ab-89d9-4bdd-9a47-afd7e8cb017b",
   "metadata": {},
   "outputs": [],
   "source": [
    "plot_contour('si', T, dt)"
   ]
  },
  {
   "cell_type": "code",
   "execution_count": null,
   "id": "03a72825-a0e1-4072-8f69-a816bb4fd6a4",
   "metadata": {},
   "outputs": [],
   "source": []
  }
 ],
 "metadata": {
  "kernelspec": {
   "display_name": "Python 3 (ipykernel)",
   "language": "python",
   "name": "python3"
  },
  "language_info": {
   "codemirror_mode": {
    "name": "ipython",
    "version": 3
   },
   "file_extension": ".py",
   "mimetype": "text/x-python",
   "name": "python",
   "nbconvert_exporter": "python",
   "pygments_lexer": "ipython3",
   "version": "3.9.7"
  }
 },
 "nbformat": 4,
 "nbformat_minor": 5
}
