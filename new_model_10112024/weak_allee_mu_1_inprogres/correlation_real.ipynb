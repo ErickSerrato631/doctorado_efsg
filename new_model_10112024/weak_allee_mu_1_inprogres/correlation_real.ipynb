{
 "cells": [
  {
   "cell_type": "code",
   "execution_count": null,
   "id": "adb2c3e2-f7fe-404b-80e6-3654ba742249",
   "metadata": {},
   "outputs": [],
   "source": [
    "import matplotlib.pyplot as plt\n",
    "from matplotlib import cm\n",
    "from mpl_toolkits.mplot3d.axes3d import get_test_data\n",
    "from mpl_toolkits.mplot3d import Axes3D\n",
    "from fenics import *\n",
    "from mshr import *\n",
    "import numpy as np\n",
    "from dotenv import load_dotenv\n",
    "from scipy.ndimage import zoom\n",
    "from scipy.interpolate import interp1d\n",
    "import os\n",
    "set_log_level(30)\n",
    "# Cargar las variables del archivo .env\n",
    "load_dotenv()"
   ]
  },
  {
   "cell_type": "code",
   "execution_count": null,
   "id": "13152c2f-2ee9-46b7-8af1-7268acc6c692",
   "metadata": {},
   "outputs": [],
   "source": [
    "nueva_ruta = '/media/erick/TOSHIBA EXT/tests'"
   ]
  },
  {
   "cell_type": "code",
   "execution_count": null,
   "id": "b9845ab9-3c99-40a1-a9c5-5c963847f9f0",
   "metadata": {},
   "outputs": [],
   "source": [
    "# Define time parameters\n",
    "T = float(os.getenv('T'))\n",
    "dt = float(os.getenv('dt'))\n",
    "nb = int(os.getenv('nb'))\n",
    "save_images = os.getenv('SAVE_IMAGES')\n",
    "\n",
    "# Define time parameters\n",
    "T = float(os.getenv('T'))\n",
    "dt = float(os.getenv('dt'))\n",
    "nb = 1\n",
    "\n",
    "os.chdir(nueva_ruta)\n"
   ]
  },
  {
   "cell_type": "code",
   "execution_count": null,
   "id": "dae3e79c-b5e4-448b-82ed-f5a29aecd9bd",
   "metadata": {},
   "outputs": [],
   "source": [
    "result_dir = \"correlation_results\"\n",
    "os.makedirs(result_dir, exist_ok=True)\n",
    "timesteps = np.arange(0, T, dt)\n",
    "fields = ['c', 's', 'i']"
   ]
  },
  {
   "cell_type": "code",
   "execution_count": null,
   "id": "d9c3d3c7-8782-45d1-841b-e3554fe20667",
   "metadata": {},
   "outputs": [],
   "source": [
    "def compute_correlation_anisotropic(field, max_distance, num_angles=36):\n",
    "    \"\"\"\n",
    "    Calcula la función de correlación C(r, theta) para un campo no isotrópico.\n",
    "    \n",
    "    field: matriz 2D del campo.\n",
    "    max_distance: distancia máxima para calcular la correlación.\n",
    "    num_angles: número de ángulos (direcciones) para muestreo.\n",
    "    \"\"\"\n",
    "    size_x, size_y = field.shape\n",
    "    mean_field = np.mean(field)\n",
    "    var_field = np.var(field)\n",
    "    \n",
    "    # Discretizar ángulos\n",
    "    angles = np.linspace(0, 2 * np.pi, num_angles, endpoint=False)\n",
    "    distances = np.arange(1, max_distance + 1)\n",
    "    \n",
    "    correlation = np.zeros((num_angles, len(distances)))\n",
    "    \n",
    "    for a, theta in enumerate(angles):\n",
    "        dx = np.cos(theta)  # Desplazamiento en x\n",
    "        dy = np.sin(theta)  # Desplazamiento en y\n",
    "        for d, r in enumerate(distances):\n",
    "            correlation_r = 0\n",
    "            count = 0\n",
    "            for i in range(size_x):\n",
    "                for j in range(size_y):\n",
    "                    x2 = int(i + r * dx)\n",
    "                    y2 = int(j + r * dy)\n",
    "                    if 0 <= x2 < size_x and 0 <= y2 < size_y:  # Dentro de los límites\n",
    "                        correlation_r += (field[i, j] - mean_field) * (field[x2, y2] - mean_field)\n",
    "                        count += 1\n",
    "            if count > 0:\n",
    "                correlation[a, d] = correlation_r / (count * var_field)\n",
    "    \n",
    "    return angles, distances, correlation"
   ]
  },
  {
   "cell_type": "code",
   "execution_count": null,
   "id": "4068b476-6cec-4456-85d1-261acd461ce2",
   "metadata": {},
   "outputs": [],
   "source": [
    "def correlation_length_anisotropic(distances, correlation, threshold=1/np.e):\n",
    "    \"\"\"\n",
    "    Calcula la longitud de correlación para cada dirección (ángulo).\n",
    "    \"\"\"\n",
    "    lengths = []\n",
    "    for corr in correlation:\n",
    "        # Encontrar el punto donde la correlación cae a 1/e\n",
    "        idx = np.where(corr < threshold)[0]\n",
    "        if len(idx) > 0:\n",
    "            lengths.append(distances[idx[0]])\n",
    "        else:\n",
    "            lengths.append(distances[-1])  # Si no decae, usar la distancia máxima\n",
    "    return np.array(lengths)"
   ]
  },
  {
   "cell_type": "code",
   "execution_count": null,
   "id": "2e6da483-2c89-4834-a642-24c6763a3786",
   "metadata": {},
   "outputs": [],
   "source": [
    "\n",
    "# Leer un campo de ejemplo\n",
    "field = np.loadtxt(\"matrix_c_0.000_nb_1.txt\", delimiter=\"\\t\")\n",
    "\n",
    "# Calcular la función de correlación anisotrópica\n",
    "max_distance = 30  # Ajusta según el tamaño del campo\n",
    "angles, distances, correlation = compute_correlation_anisotropic(field, max_distance)\n",
    "\n",
    "# Calcular la longitud de correlación para cada dirección\n",
    "xi_anisotropic = correlation_length_anisotropic(distances, correlation)\n",
    "\n",
    "# Graficar la longitud de correlación como función de los ángulos\n",
    "plt.figure(figsize=(8, 8))\n",
    "plt.polar(angles, xi_anisotropic, marker='o', label=\"Longitud de correlación $\\\\xi(\\\\theta)$\")\n",
    "plt.title(\"Longitud de correlación en un campo no isotrópico\")\n",
    "plt.legend()\n",
    "plt.show()\n",
    "\n",
    "# Opcional: Graficar la función de correlación para un ángulo específico\n",
    "angle_idx = 0  # Selecciona un ángulo\n",
    "plt.figure(figsize=(8, 5))\n",
    "plt.plot(distances, correlation[angle_idx], label=f\"C(r) para $\\\\theta={angles[angle_idx]:.2f}$ rad\")\n",
    "plt.axvline(x=xi_anisotropic[angle_idx], color='r', linestyle='--', label=f\"$\\\\xi(\\\\theta)={xi_anisotropic[angle_idx]:.2f}$\")\n",
    "plt.xlabel(\"Distancia $r$\")\n",
    "plt.ylabel(\"Correlación $C(r)$\")\n",
    "plt.title(\"Función de correlación en una dirección específica\")\n",
    "plt.legend()\n",
    "plt.grid()\n",
    "plt.show()"
   ]
  },
  {
   "cell_type": "code",
   "execution_count": null,
   "id": "66408e91-5923-40cc-9970-5c643d8f8b5e",
   "metadata": {},
   "outputs": [],
   "source": []
  },
  {
   "cell_type": "code",
   "execution_count": null,
   "id": "f8865a1b-30f5-4413-8f7e-6f5b14050392",
   "metadata": {},
   "outputs": [],
   "source": []
  },
  {
   "cell_type": "code",
   "execution_count": null,
   "id": "8301b207-410c-4056-aa52-25964d07c996",
   "metadata": {},
   "outputs": [],
   "source": []
  },
  {
   "cell_type": "code",
   "execution_count": null,
   "id": "6c060675-505d-4cee-8ea9-8b7a029e306a",
   "metadata": {},
   "outputs": [],
   "source": []
  },
  {
   "cell_type": "code",
   "execution_count": null,
   "id": "21893e1e-b2c1-48df-9273-df0a984ee8ff",
   "metadata": {},
   "outputs": [],
   "source": []
  },
  {
   "cell_type": "code",
   "execution_count": null,
   "id": "b7cc5d4f-d490-426f-90c5-100a3362d7a0",
   "metadata": {},
   "outputs": [],
   "source": []
  },
  {
   "cell_type": "code",
   "execution_count": null,
   "id": "e0b08ce5-9891-40e2-8a9a-a0e2d1f96080",
   "metadata": {},
   "outputs": [],
   "source": []
  }
 ],
 "metadata": {
  "kernelspec": {
   "display_name": "Python 3 (ipykernel)",
   "language": "python",
   "name": "python3"
  },
  "language_info": {
   "codemirror_mode": {
    "name": "ipython",
    "version": 3
   },
   "file_extension": ".py",
   "mimetype": "text/x-python",
   "name": "python",
   "nbconvert_exporter": "python",
   "pygments_lexer": "ipython3",
   "version": "3.9.7"
  }
 },
 "nbformat": 4,
 "nbformat_minor": 5
}
