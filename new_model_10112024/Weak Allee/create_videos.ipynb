{
 "cells": [
  {
   "cell_type": "code",
   "execution_count": null,
   "id": "a9ae1cd9-e4ae-4fa8-a7ff-311ff1631023",
   "metadata": {},
   "outputs": [],
   "source": [
    "import imageio\n",
    "import os"
   ]
  },
  {
   "cell_type": "code",
   "execution_count": null,
   "id": "bbd213c7-4acf-4d4e-bdce-a4b5587a7dc9",
   "metadata": {},
   "outputs": [],
   "source": [
    "def crear_video(image_folder, video_filename, pattern, steps, step_size, fps=10):\n",
    "    image_folder = os.path.expanduser(image_folder)\n",
    "    video_filename = os.path.expanduser(video_filename)\n",
    "\n",
    "    # Crear la lista de nombres de archivos de imagen\n",
    "    images = [pattern.format(step=step_size * i) for i in range(1, steps)]\n",
    "\n",
    "    # Crear el video\n",
    "    with imageio.get_writer(video_filename, fps=fps) as writer:\n",
    "        for image_name in images:\n",
    "            image_path = os.path.join(image_folder, image_name)\n",
    "            if os.path.exists(image_path):\n",
    "                image = imageio.imread(image_path)\n",
    "                writer.append_data(image)\n",
    "            else:\n",
    "                print(f'⚠️ Imagen no encontrada: {image_path}')\n",
    "\n",
    "    print(f'✅ Video guardado como {video_filename}')"
   ]
  },
  {
   "cell_type": "code",
   "execution_count": null,
   "id": "dfdf581c-d5c5-43cd-895b-114f25aa42f2",
   "metadata": {},
   "outputs": [],
   "source": [
    "# Carpeta base en Drive\n",
    "nueva_ruta = os.path.expanduser('~/Drive/Doctorado Erick Serrato/25-I/weak_allee')"
   ]
  },
  {
   "cell_type": "code",
   "execution_count": null,
   "id": "1a78bc06-9a27-485a-b3a3-5e3beb3f226b",
   "metadata": {},
   "outputs": [],
   "source": [
    "# Primer video\n",
    "crear_video(\n",
    "    image_folder='~/Drive/Doctorado Erick Serrato/25-I/weak_allee/mu_1',\n",
    "    video_filename=os.path.join(nueva_ruta, 'fields_mu_1_weak.mp4'),\n",
    "    pattern='fields_block_1._step_{step:.3f}.png',\n",
    "    steps=400,\n",
    "    step_size=0.005\n",
    ")"
   ]
  },
  {
   "cell_type": "code",
   "execution_count": null,
   "id": "2d66bdc5-6558-472a-9130-aef3eb1569b5",
   "metadata": {},
   "outputs": [],
   "source": []
  }
 ],
 "metadata": {
  "kernelspec": {
   "display_name": "Python 3 (ipykernel)",
   "language": "python",
   "name": "python3"
  },
  "language_info": {
   "codemirror_mode": {
    "name": "ipython",
    "version": 3
   },
   "file_extension": ".py",
   "mimetype": "text/x-python",
   "name": "python",
   "nbconvert_exporter": "python",
   "pygments_lexer": "ipython3",
   "version": "3.9.7"
  }
 },
 "nbformat": 4,
 "nbformat_minor": 5
}
