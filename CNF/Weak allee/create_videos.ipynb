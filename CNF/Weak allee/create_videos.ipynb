{
 "cells": [
  {
   "cell_type": "code",
   "execution_count": null,
   "id": "a9ae1cd9-e4ae-4fa8-a7ff-311ff1631023",
   "metadata": {},
   "outputs": [],
   "source": [
    "import imageio\n",
    "\n",
    "# Ruta donde se encuentran las imágenes\n",
    "image_folder = '/media/erick/TOSHIBA EXT/pruebas_1/'"
   ]
  },
  {
   "cell_type": "code",
   "execution_count": null,
   "id": "bbd213c7-4acf-4d4e-bdce-a4b5587a7dc9",
   "metadata": {},
   "outputs": [],
   "source": [
    "video_name = '/home/erick/Desktop/Doctorado/doctorado_efsg/CNF/fields_video_2.mp4'\n",
    "# Obtener la lista de archivos de imagen en orden\n",
    "images = [f'fields_block_1._step_{step:.3f}.png' for step in [0.001 * i for i in range(1, 231)]]\n",
    "\n",
    "# Crear el video\n",
    "with imageio.get_writer(video_name, fps=10) as writer:\n",
    "    for image_name in images:\n",
    "        image_path = f'{image_folder}{image_name}'\n",
    "        image = imageio.imread(image_path)\n",
    "        writer.append_data(image)\n",
    "\n",
    "print(f'Video guardado como {video_name}')"
   ]
  },
  {
   "cell_type": "code",
   "execution_count": null,
   "id": "1a78bc06-9a27-485a-b3a3-5e3beb3f226b",
   "metadata": {},
   "outputs": [],
   "source": [
    "video_name = '/home/erick/Desktop/Doctorado/doctorado_efsg/CNF/fft_mean_i_2.mp4'\n",
    "# Obtener la lista de archivos de imagen en orden\n",
    "images = [f'mean_fft_block_i_20_step_{step:.3f}.png' for step in [0.001 * i for i in range(1, 231)]]\n",
    "\n",
    "# Crear el video\n",
    "with imageio.get_writer(video_name, fps=10) as writer:\n",
    "    for image_name in images:\n",
    "        image_path = f'{image_folder}{image_name}'\n",
    "        image = imageio.imread(image_path)\n",
    "        writer.append_data(image)\n",
    "\n",
    "print(f'Video guardado como {video_name}')"
   ]
  },
  {
   "cell_type": "code",
   "execution_count": null,
   "id": "5fe19f25-a5ba-4fdf-a3ed-a6895e91141e",
   "metadata": {},
   "outputs": [],
   "source": [
    "correlations_3D_cc.png"
   ]
  },
  {
   "cell_type": "code",
   "execution_count": null,
   "id": "2d66bdc5-6558-472a-9130-aef3eb1569b5",
   "metadata": {},
   "outputs": [],
   "source": []
  }
 ],
 "metadata": {
  "kernelspec": {
   "display_name": "Python 3 (ipykernel)",
   "language": "python",
   "name": "python3"
  },
  "language_info": {
   "codemirror_mode": {
    "name": "ipython",
    "version": 3
   },
   "file_extension": ".py",
   "mimetype": "text/x-python",
   "name": "python",
   "nbconvert_exporter": "python",
   "pygments_lexer": "ipython3",
   "version": "3.9.7"
  }
 },
 "nbformat": 4,
 "nbformat_minor": 5
}
