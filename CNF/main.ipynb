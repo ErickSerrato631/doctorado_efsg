{
 "cells": [
  {
   "cell_type": "code",
   "execution_count": null,
   "id": "dc3a19a4-3260-4f53-a0a7-efb6f759229e",
   "metadata": {},
   "outputs": [],
   "source": [
    "import nbformat\n",
    "from nbconvert.preprocessors import ExecutePreprocessor\n",
    "\n",
    "def run_notebook(notebook_filename):\n",
    "    try:\n",
    "        with open(notebook_filename) as f:\n",
    "            nb = nbformat.read(f, as_version=4)\n",
    "            ep = ExecutePreprocessor(timeout=600, kernel_name='python3')\n",
    "            ep.preprocess(nb, {'metadata': {'path': './'}})\n",
    "\n",
    "            # Guardar el notebook ejecutado\n",
    "            with open(notebook_filename, 'w', encoding='utf-8') as f:\n",
    "                nbformat.write(nb, f)\n",
    "\n",
    "    except Exception as e:\n",
    "        print(f\"Error al ejecutar el notebook {notebook_filename}:\")\n",
    "        print(\"Detalles del error:\")\n",
    "        traceback.print_exc()  # Imprimir el traceback completo del error\n",
    "\n",
    "# Ejecutar los notebooks\n",
    "notebooks = [\n",
    "    'create_results_dir.ipynb',\n",
    "    'cancer_dynamics.ipynb',\n",
    "    'power_spectrum_correlation.ipynb',\n",
    "    'correlations.ipynb'\n",
    "]\n",
    "\n",
    "for notebook in notebooks:\n",
    "    run_notebook(notebook)\n"
   ]
  },
  {
   "cell_type": "code",
   "execution_count": null,
   "id": "46a169be-e6a8-46df-a1f4-249c6cadb68a",
   "metadata": {},
   "outputs": [],
   "source": []
  }
 ],
 "metadata": {
  "kernelspec": {
   "display_name": "Python 3 (ipykernel)",
   "language": "python",
   "name": "python3"
  },
  "language_info": {
   "codemirror_mode": {
    "name": "ipython",
    "version": 3
   },
   "file_extension": ".py",
   "mimetype": "text/x-python",
   "name": "python",
   "nbconvert_exporter": "python",
   "pygments_lexer": "ipython3",
   "version": "3.9.7"
  }
 },
 "nbformat": 4,
 "nbformat_minor": 5
}
