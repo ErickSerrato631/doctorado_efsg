{
 "cells": [
  {
   "cell_type": "code",
   "execution_count": 1,
   "id": "a551f12b-0dc0-4a80-9223-d0874dff0da9",
   "metadata": {
    "tags": []
   },
   "outputs": [
    {
     "name": "stdout",
     "output_type": "stream",
     "text": [
      "Directorio actual: /media/erick/TOSHIBA EXT\n",
      "Ruta para 'pruebas': /media/erick/TOSHIBA EXT/pruebas\n",
      "El subdirectorio '/media/erick/TOSHIBA EXT/pruebas_1' ha sido creado exitosamente.\n",
      "Líneas añadidas al archivo .env.\n"
     ]
    }
   ],
   "source": [
    "import os\n",
    "\n",
    "# Creación de directorios para resultados\n",
    "# Ruta sin la barra invertida\n",
    "nueva_ruta = '/media/erick/TOSHIBA EXT'\n",
    "\n",
    "# Cambiar al nuevo directorio\n",
    "os.chdir(nueva_ruta)\n",
    "\n",
    "# Confirmar que se cambió correctamente\n",
    "directorio_actual = os.getcwd()\n",
    "print(\"Directorio actual:\", directorio_actual)\n",
    "\n",
    "# Crear la ruta para el directorio 'pruebas'\n",
    "results_dir = os.path.join(directorio_actual, 'pruebas')\n",
    "print(\"Ruta para 'pruebas':\", results_dir)\n",
    "\n",
    "# Intenta crear el subdirectorio principal 'pruebas'\n",
    "try:\n",
    "    os.makedirs(results_dir)\n",
    "    print(f\"El subdirectorio '{results_dir}' ha sido creado exitosamente.\")\n",
    "except FileExistsError:\n",
    "    # Si 'pruebas' ya existe, intenta crear subdirectorios 'pruebas_1', 'pruebas_2', etc.\n",
    "    for i in range(1, 31):  # El rango puede ser ajustado según sea necesario\n",
    "        nuevo_directorio = os.path.join(directorio_actual, f'pruebas_{i}')\n",
    "        try:\n",
    "            os.makedirs(nuevo_directorio)\n",
    "            print(f\"El subdirectorio '{nuevo_directorio}' ha sido creado exitosamente.\")\n",
    "            break\n",
    "        except FileExistsError:\n",
    "            if i == 30:\n",
    "                print(\"Ya existen 30 subdirectorios numerados. No se pudo crear uno nuevo.\")\n",
    "\n",
    "env_file_path = '.env'\n",
    "new_lines = [\n",
    "    \"# this value generates automatically, no modify\",\n",
    "    \"TEST_DIRECTORY\"+ \"=\" + nuevo_directorio\n",
    "]\n",
    "\n",
    "# Leer contenido existente del archivo .env\n",
    "try:\n",
    "    with open(env_file_path, 'r') as file:\n",
    "        existing_lines = file.readlines()\n",
    "except FileNotFoundError:\n",
    "    existing_lines = []\n",
    "\n",
    "# Filtrar las líneas para eliminar cualquier línea que contenga \"TEST_DIRECTORY\"\n",
    "filtered_lines = [line for line in existing_lines if \"TEST_DIRECTORY\" not in line]\n",
    "\n",
    "# Añadir nuevas líneas solo si no existen ya en el archivo\n",
    "with open(env_file_path, 'w') as file:\n",
    "    # Escribir las líneas filtradas de vuelta al archivo\n",
    "    file.writelines(filtered_lines)\n",
    "    # Añadir las nuevas líneas\n",
    "    for line in new_lines:\n",
    "        if line + '\\n' not in filtered_lines:\n",
    "            file.write(line + '\\n')\n",
    "\n",
    "print(f\"Líneas añadidas al archivo {env_file_path}.\")"
   ]
  },
  {
   "cell_type": "code",
   "execution_count": null,
   "id": "a74aa045-8160-4e42-b4ba-a8090f09e906",
   "metadata": {},
   "outputs": [],
   "source": []
  }
 ],
 "metadata": {
  "kernelspec": {
   "display_name": "Python 3 (ipykernel)",
   "language": "python",
   "name": "python3"
  },
  "language_info": {
   "codemirror_mode": {
    "name": "ipython",
    "version": 3
   },
   "file_extension": ".py",
   "mimetype": "text/x-python",
   "name": "python",
   "nbconvert_exporter": "python",
   "pygments_lexer": "ipython3",
   "version": "3.9.7"
  }
 },
 "nbformat": 4,
 "nbformat_minor": 5
}
