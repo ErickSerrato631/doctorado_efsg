{
 "cells": [
  {
   "cell_type": "code",
   "execution_count": 2,
   "id": "a9b7d2c1-77fa-4fd8-95f3-209ce8812afc",
   "metadata": {},
   "outputs": [],
   "source": [
    "import cv2\n",
    "import os"
   ]
  },
  {
   "cell_type": "code",
   "execution_count": null,
   "id": "a9ae1cd9-e4ae-4fa8-a7ff-311ff1631023",
   "metadata": {},
   "outputs": [],
   "source": [
    "# Ruta de las imágenes y el directorio de salida\n",
    "image_folder = '/media/erick/TOSHIBA EXT/pruebas_1'\n",
    "video_name = '/home/erick/Desktop/Doctorado/doctorado_efsg/CNF/fields_video.mp4'\n",
    "\n",
    "# Obtén las imágenes en el orden correcto\n",
    "images = [img for img in sorted(os.listdir(image_folder)) if img.endswith(\".png\")]\n",
    "\n",
    "# Lee la primera imagen para obtener las dimensiones\n",
    "frame = cv2.imread(os.path.join(image_folder, images[0]))\n",
    "height, width, layers = frame.shape\n",
    "\n",
    "# Define el codec y crea el objeto de video para .mp4\n",
    "video = cv2.VideoWriter(video_name, cv2.VideoWriter_fourcc(*'mp4v'), 10, (width, height))\n",
    "\n",
    "# Itera sobre las imágenes y agrégalas al video\n",
    "for image in images:\n",
    "    video.write(cv2.imread(os.path.join(image_folder, image)))\n",
    "\n",
    "# Libera el objeto de video\n",
    "cv2.destroyAllWindows()\n",
    "video.release()"
   ]
  },
  {
   "cell_type": "code",
   "execution_count": null,
   "id": "bbd213c7-4acf-4d4e-bdce-a4b5587a7dc9",
   "metadata": {},
   "outputs": [],
   "source": []
  },
  {
   "cell_type": "code",
   "execution_count": null,
   "id": "1a78bc06-9a27-485a-b3a3-5e3beb3f226b",
   "metadata": {},
   "outputs": [],
   "source": []
  },
  {
   "cell_type": "code",
   "execution_count": null,
   "id": "5fe19f25-a5ba-4fdf-a3ed-a6895e91141e",
   "metadata": {},
   "outputs": [],
   "source": []
  },
  {
   "cell_type": "code",
   "execution_count": null,
   "id": "2d66bdc5-6558-472a-9130-aef3eb1569b5",
   "metadata": {},
   "outputs": [],
   "source": []
  }
 ],
 "metadata": {
  "kernelspec": {
   "display_name": "Python 3 (ipykernel)",
   "language": "python",
   "name": "python3"
  },
  "language_info": {
   "codemirror_mode": {
    "name": "ipython",
    "version": 3
   },
   "file_extension": ".py",
   "mimetype": "text/x-python",
   "name": "python",
   "nbconvert_exporter": "python",
   "pygments_lexer": "ipython3",
   "version": "3.9.7"
  }
 },
 "nbformat": 4,
 "nbformat_minor": 5
}
