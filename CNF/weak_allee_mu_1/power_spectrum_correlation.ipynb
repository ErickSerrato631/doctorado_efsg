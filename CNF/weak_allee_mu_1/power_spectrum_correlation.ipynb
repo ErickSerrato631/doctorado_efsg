{
 "cells": [
  {
   "cell_type": "code",
   "execution_count": 1,
   "id": "173ccdfb-f087-44e9-906c-e6cee7ad8b30",
   "metadata": {},
   "outputs": [
    {
     "data": {
      "text/plain": [
       "True"
      ]
     },
     "execution_count": 1,
     "metadata": {},
     "output_type": "execute_result"
    }
   ],
   "source": [
    "import matplotlib.pyplot as plt\n",
    "from matplotlib import cm\n",
    "from mpl_toolkits.mplot3d.axes3d import get_test_data\n",
    "from mpl_toolkits.mplot3d import Axes3D\n",
    "from fenics import *\n",
    "from mshr import *\n",
    "import numpy as np\n",
    "from dotenv import load_dotenv\n",
    "from scipy.ndimage import zoom\n",
    "import os\n",
    "\n",
    "# Cargar las variables del archivo .env\n",
    "load_dotenv()"
   ]
  },
  {
   "cell_type": "code",
   "execution_count": null,
   "id": "65fd038e-cf9d-44b1-bb36-c6922923b184",
   "metadata": {},
   "outputs": [],
   "source": []
  },
  {
   "cell_type": "code",
   "execution_count": 4,
   "id": "d9f39075-38f1-453f-b18d-6c9e89988158",
   "metadata": {},
   "outputs": [],
   "source": [
    "nueva_ruta = '/media/erick/TOSHIBA EXT/pruebas_1'"
   ]
  },
  {
   "cell_type": "code",
   "execution_count": 5,
   "id": "9cddb9c8-d041-40f4-9916-02500a9e96a5",
   "metadata": {},
   "outputs": [],
   "source": [
    "# Define time parameters\n",
    "T = float(os.getenv('T'))\n",
    "dt = float(os.getenv('dt'))\n",
    "nb = int(os.getenv('nb'))\n",
    "save_images = os.getenv('SAVE_IMAGES')\n",
    "\n",
    "# Define time parameters\n",
    "T = float(os.getenv('T'))\n",
    "dt = float(os.getenv('dt'))\n",
    "nb = int(os.getenv('nb'))\n",
    "\n",
    "os.chdir(nueva_ruta)"
   ]
  },
  {
   "cell_type": "markdown",
   "id": "419c8dfd-140a-413d-8e96-4899b144df65",
   "metadata": {
    "tags": []
   },
   "source": [
    "\n",
    "mu=1## Transformada de Fourier\n",
    "\n",
    "##### La transformada de Fourier se utiliza para analizar la frecuencia espacial de los patrones en los campos de concentración de las especies. Este análisis puede revelar información sobre la estructura y distribución espacial de las células en el dominio.\n",
    "\n",
    "##### Frecuencias Altas: Indicarían cambios abruptos en la concentración de células, lo que podría asociarse con la formación de límites nítidos entre las especies (por ejemplo, la frontera entre un tumor y el tejido sano).\n",
    "\n",
    "##### Frecuencias Bajas: Indicarían una distribución más homogénea de las células, lo que podría reflejar una invasión difusa del tumor o una respuesta inmune uniforme.\n",
    "\n",
    "\n",
    "## Espectro de Potencia\n",
    "\n",
    "### Frecuencias Espaciales:\n",
    "\n",
    "##### Frecuencias Bajas (cerca del centro del espectro de potencia): Estas frecuencias corresponden a estructuras grandes o variaciones suaves en la distribución espacial. En un contexto biológico, esto podría estar asociado con regiones grandes de concentración uniforme de células, como una masa tumoral homogénea.\n",
    "\n",
    "##### Frecuencias Altas (alejadas del centro del espectro de potencia): Estas frecuencias corresponden a estructuras pequeñas o variaciones abruptas en la distribución espacial, como los bordes afilados de un tumor o pequeños grupos de células.\n",
    "\n",
    "\n",
    "### Amplitud en el Espectro de Potencia:\n",
    "\n",
    "##### La magnitud de los valores en el espectro de potencia te indica cuánta energía está presente en cada frecuencia. Si hay un pico en una frecuencia específica, sugiere que hay un patrón espacial dominante con esa frecuencia en la distribución celular.\n",
    "\n",
    "##### Por ejemplo, un pico en una frecuencia baja podría indicar que el campo tiene una estructura general \n",
    "\n",
    "\n"
   ]
  },
  {
   "cell_type": "code",
   "execution_count": null,
   "id": "197b56f6-28fa-4f73-ad09-8d7ec8c883a4",
   "metadata": {},
   "outputs": [],
   "source": []
  },
  {
   "cell_type": "markdown",
   "id": "8890cd57-15fc-4c31-8c01-32518c249745",
   "metadata": {},
   "source": [
    "## Función power_spectrum(field_type, t, block)\n",
    "\n",
    "\n",
    "### Cálculo del Espectro de Fourier:\n",
    "\n",
    "\n",
    "##### Esta función calcula la Transformada Rápida de Fourier (FFT) de un campo espacial correspondiente a una especie dada (field_type) en un tiempo t para un bloque respectivo de la simulación.\n",
    "\n",
    "##### La FFT se centra utilizando fftshift, y luego se calcula el valor absoluto de la FFT, que representa la magnitud del espectro de potencia.\n",
    "\n",
    "##### El valor máximo del espectro se pone a cero para eliminar el componente de baja frecuencia (frecuencia cero)"
   ]
  },
  {
   "cell_type": "code",
   "execution_count": 7,
   "id": "3bfb34c0-26a9-42a3-8fe7-db4cae7124b2",
   "metadata": {},
   "outputs": [],
   "source": [
    "def power_spectrum(field_type, t, block):\n",
    "    field_file = \"matrix_\"  + field_type +\"_\"+ \"{:.3f}\".format(t) + \"_\" + \"nb_\" + str(block) + \".txt\"\n",
    "    field=np.loadtxt(field_file,float)\n",
    "    field = np.rot90(field, k=1, axes=(0, 1))\n",
    "    fft_field = np.fft.fft2(field)\n",
    "    fft_field=np.fft.fftshift(fft_field)\n",
    "    fft_field=(np.abs(fft_field))\n",
    "    max_fft = np.where(fft_field == fft_field.max())\n",
    "    fft_field[max_fft[0][0],max_fft[1][0]] = 0\n",
    "    dft_file = \"matrix\" + \"_{}_dft_\".format(field_type) + \"{:.3f}\".format(t) + \"_\" + \"nb_\" + str(block) + \".txt\"\n",
    "    np.savetxt(dft_file, fft_field, delimiter=\"\\t\")\n",
    "    return field_file, dft_file"
   ]
  },
  {
   "cell_type": "code",
   "execution_count": null,
   "id": "b7b79256-f220-42ea-9800-e51344bb1c20",
   "metadata": {},
   "outputs": [],
   "source": []
  },
  {
   "cell_type": "markdown",
   "id": "6b556794-5259-46c9-a69c-7e6fabf4c7d2",
   "metadata": {},
   "source": [
    "## Función dft_mean(field, end_step, end_blocks, dt)\n",
    "\n",
    "##### El promedio temporal del espectro de potencia te permite evaluar cómo evoluciona el patrón espacial dominante en el tiempo. Un cambio en el espectro promedio podría indicar cambios en la dinámica del tumor o en la respuesta inmune.\n",
    "\n",
    "### Promedio del Espectro de Fourier:\n",
    "\n",
    "##### Esta función calcula el promedio de los espectros de Fourier para una especie dada (field) a lo largo de múltiples bloques de simulación. Este promedio reduce el ruido estadístico y resalta las características globales del espectro.\n",
    "\n",
    "### Visualización del Espectro Promedio:\n",
    "\n",
    "##### Al final de la función, se muestra y guarda el espectro de Fourier promedio. Este gráfico permite observar la estructura espacial media de las células en el tiempo, proporcionando una visión más clara de las características dominantes en la distribución celular.\n",
    "\n",
    "\n",
    "### Promedio Polar y Longitud de Correlación\n",
    "##### El promedio polar te da una medida de la longitud de correlación, que indica la distancia típica a la cual dos puntos en el campo están correlacionados.\n",
    "\n",
    "##### Esto puede ser útil para identificar la escala espacial a la que ocurre la organización celular, como el tamaño típico de los clusters de células.\n"
   ]
  },
  {
   "cell_type": "code",
   "execution_count": 16,
   "id": "fa8494b6-a451-401e-95b1-18bc47147c6e",
   "metadata": {},
   "outputs": [],
   "source": [
    "def dft_mean(field, end_step, end_blocks, dt):\n",
    "    t0 = 0\n",
    "    min_shape = None\n",
    "    \n",
    "    while t0 <= end_step:\n",
    "        t0 += dt\n",
    "        # print('step', t0)\n",
    "        final_file = None\n",
    "        \n",
    "        for nb in range(1, end_blocks + 1):\n",
    "            file_name = \"matrix_\" + field + \"_dft_\" + \"{:.3f}\".format(t0) + \"_nb_\" + str(nb) + \".txt\"\n",
    "            file_load = np.loadtxt(file_name, float)\n",
    "            \n",
    "            if final_file is None:\n",
    "                final_file = file_load\n",
    "                min_shape = file_load.shape\n",
    "            else:\n",
    "                min_shape = (min(min_shape[0], file_load.shape[0]), min(min_shape[1], file_load.shape[1]))\n",
    "        \n",
    "        # Redimensionar final_file y file_load a min_shape\n",
    "        final_file_cropped = final_file[:min_shape[0], :min_shape[1]]\n",
    "        final_file = np.zeros(min_shape)  # Re-inicializar final_file al tamaño mínimo\n",
    "        \n",
    "        for nb in range(1, end_blocks + 1):\n",
    "            file_name = \"matrix_\" + field + \"_dft_\" + \"{:.3f}\".format(t0) + \"_nb_\" + str(nb) + \".txt\"\n",
    "            file_load = np.loadtxt(file_name, float)\n",
    "            file_load_cropped = file_load[:min_shape[0], :min_shape[1]]\n",
    "            final_file += file_load_cropped\n",
    "        \n",
    "        final_file = final_file / float(end_blocks)\n",
    "        \n",
    "        f_save = \"FFT_\" + field + \"_\" + \"{:.3f}\".format(t0) + \".txt\"\n",
    "        np.savetxt(f_save, final_file, delimiter=\"\\t\")\n",
    "        \n",
    "        # plt.imshow(final_file, cmap=plt.cm.seismic)\n",
    "        # plt.title(f'Mean_fft_{field}_(t={t0:.3f})')\n",
    "        # plt.colorbar()\n",
    "        # if save_images == 'Y':\n",
    "            # plt.savefig(f'mean_fft_block_{field}_{nb}_step_{t0:.3f}.png')\n",
    "        #     plt.show()\n",
    "        # else:\n",
    "        #     plt.show()"
   ]
  },
  {
   "cell_type": "code",
   "execution_count": 9,
   "id": "81efb0ce-8632-43fb-8dba-6f43be0df206",
   "metadata": {},
   "outputs": [],
   "source": [
    "def plot_fft(dft_field_c, dft_field_s, dft_field_i, t, save_images, block): \n",
    "\n",
    "    dft_field_c = np.loadtxt(dft_field_c, float)\n",
    "    dft_field_c[dft_field_c == 0.0] = np.nan\n",
    "    dft_field_s = np.loadtxt(dft_field_s, float)\n",
    "    dft_field_s[dft_field_s == 0.0] = np.nan\n",
    "    dft_field_i = np.loadtxt(dft_field_i, float)\n",
    "    dft_field_i[dft_field_i == 0.0] = np.nan   \n",
    "    \n",
    "    plt.figure(figsize=(15, 8))\n",
    "    \n",
    "    plt.subplot(1, 3, 1)\n",
    "    img1 = plt.imshow(dft_field_c, cmap='seismic', interpolation='bilinear')\n",
    "    plt.title(\"$fft_c(t={})$\".format(\"{:.3f}\".format(t)))\n",
    "    plt.colorbar(img1, fraction=0.046, pad=0.04)  # Ajusta fraction y pad\n",
    "    \n",
    "    plt.subplot(1, 3, 2)\n",
    "    img2 = plt.imshow(dft_field_s, cmap='seismic', interpolation='bilinear')\n",
    "    plt.title(\"$fft_s(t={})$\".format(\"{:.3f}\".format(t)))\n",
    "    plt.colorbar(img2, fraction=0.046, pad=0.04)  # Ajusta fraction y pad\n",
    "    \n",
    "    plt.subplot(1, 3, 3)\n",
    "    img3 = plt.imshow(dft_field_i, cmap='seismic', interpolation='bilinear')\n",
    "    plt.title(\"$fft_i(t={})$\".format(\"{:.3f}\".format(t)))\n",
    "    plt.colorbar(img3, fraction=0.046, pad=0.04)  # Ajusta fraction y pad\n",
    "    \n",
    "    if save_images == 'Y':\n",
    "        plt.savefig(f'FFT_block_{block}_step_{t:.3f}.png')\n",
    "        plt.show()\n",
    "        pass\n",
    "    else:\n",
    "        plt.show()\n",
    "        pass"
   ]
  },
  {
   "cell_type": "code",
   "execution_count": null,
   "id": "22578131-c8d1-44ae-8ad0-429e01f12482",
   "metadata": {},
   "outputs": [],
   "source": [
    "for block in range(1,nb+1):\n",
    "    t = 0\n",
    "    print(\"block=\", block)  \n",
    "    while t <= T:\n",
    "        t += dt\n",
    "        field_c, dft_field_c = power_spectrum('c', t, block)\n",
    "        field_s, dft_field_s = power_spectrum('s', t, block)\n",
    "        field_i, dft_field_i = power_spectrum('i', t, block)     \n",
    "        plot_fft(dft_field_c, dft_field_s, dft_field_i, t, save_images, block)\n",
    "\n"
   ]
  },
  {
   "cell_type": "code",
   "execution_count": 17,
   "id": "a181da6c-9690-4c25-bf04-c61540035ae5",
   "metadata": {},
   "outputs": [],
   "source": [
    "dft_mean('c', T, nb, dt)"
   ]
  },
  {
   "cell_type": "code",
   "execution_count": 18,
   "id": "fe5b2f45-cec8-4b55-b3c5-6fa483867bb6",
   "metadata": {},
   "outputs": [],
   "source": [
    "dft_mean('s', T, nb, dt)"
   ]
  },
  {
   "cell_type": "code",
   "execution_count": 19,
   "id": "aa11c2ac-7cbb-4796-a2ea-4faa7aae0caa",
   "metadata": {},
   "outputs": [],
   "source": [
    "dft_mean('i', T, nb, dt)"
   ]
  },
  {
   "cell_type": "code",
   "execution_count": null,
   "id": "c76659c9-630b-462f-bf5f-36e93028876b",
   "metadata": {},
   "outputs": [],
   "source": []
  },
  {
   "cell_type": "markdown",
   "id": "99ce4f3f-9a02-4986-af57-179cf5179806",
   "metadata": {},
   "source": [
    "\n",
    "mu=1\n",
    "mu=1### Autocorrelación Espacial (correlaciones cc, ss, ii):\n",
    "\n",
    "##### La autocorrelación te indica cómo las células de un mismo tipo se distribuyen en el espacio. Por ejemplo, si la autocorrelación de c muestra un valor alto en distancias pequeñas, significa que las células cancerígenas tienden a agruparse o formar clusters.\n",
    "\n",
    "##### La evolución de la autocorrelación en el tiempo te puede indicar cómo cambian estas agrupaciones celulares a medida que avanza el tiempo.\n",
    "\n",
    "##### cc, ss, ii: Representan las correlaciones autointernas (o autocorrelaciones) para cada una de las especies (células cancerosas, sanas e inmunitarias). Estos valores indican cómo una especie se correlaciona consigo misma en el espacio, y pueden darte información sobre la homogeneidad o la dispersión espacial de las células en cuestión.\n",
    "\n",
    "\n",
    "### Correlación Cruzada (correlaciones cs, ci, si):\n",
    "\n",
    "##### La correlación cruzada entre diferentes tipos de células te indica cómo se relacionan espacialmente. Por ejemplo, una alta correlación cruzada entre c y i podría sugerir que las células inmunitarias tienden a agruparse alrededor de las células cancerígenas.\n",
    "\n",
    "##### cs, sc: Estas son las correlaciones cruzadas entre células cancerosas y sanas. Analizar estos términos puede darte información sobre cómo las células cancerosas influyen en la distribución de las células sanas o viceversa. Una alta correlación positiva podría indicar que las células sanas y las células cancerosas tienden a coexistir en las mismas regiones, mientras que una correlación negativa podría sugerir que las células cancerosas desplazan a las células sanas.\n",
    "\n",
    "##### ci, ic: Estas correlaciones cruzadas entre células cancerosas e inmunitarias pueden revelar la efectividad de la respuesta inmunitaria contra las células cancerosas. Una correlación positiva alta podría sugerir que las células inmunitarias están respondiendo bien a la presencia de células cancerosas, mientras que una correlación negativa podría indicar que las células cancerosas están evadiendo la respuesta inmunitaria.\n",
    "\n",
    "##### si, is: Estas correlaciones cruzadas entre células sanas e inmunitarias pueden ofrecer insights sobre la protección que las células inmunitarias brindan a las células sanas o sobre cómo estas dos poblaciones celulares interactúan en presencia de una enfermedad."
   ]
  },
  {
   "cell_type": "code",
   "execution_count": null,
   "id": "74cc2e44-0f35-4074-8358-09baf1f71e90",
   "metadata": {},
   "outputs": [],
   "source": []
  },
  {
   "cell_type": "code",
   "execution_count": 20,
   "id": "38a9ab51-1da5-48ce-8130-6ad2ac7e4b58",
   "metadata": {},
   "outputs": [],
   "source": [
    "def resize_to_shape(arr, shape):\n",
    "    zoom_factors = (shape[0] / arr.shape[0], shape[1] / arr.shape[1])\n",
    "    return zoom(arr, zoom_factors, order=1) "
   ]
  },
  {
   "cell_type": "markdown",
   "id": "6f3d28e3-3102-439f-815d-8361114a9dc7",
   "metadata": {},
   "source": [
    "## Función correlation_2D(step)\n",
    "\n",
    "##### Se cargan los espectros de potencia para las tres especies en un instante de tiempo dado (step).\n",
    "\n",
    "\n",
    "### Transformada Inversa de Fourier:\n",
    "##### Para cada especie, se calcula la transformada inversa del espectro de potencia al cuadrado. Esto da como resultado la función de autocorrelación espacial 2D, que indica cómo una propiedad se correlaciona consigo misma a diferentes distancias en el espacio.\n",
    "\n",
    "##### También se calcula la correlación cruzada entre pares de especies (c-s, c-i, s-i), lo que indica la relación espacial entre diferentes tipos de células.\n",
    "\n",
    "### Cálculo de la Correlación Normalizada:\n",
    "\n",
    "##### Se normalizan las funciones de autocorrelación y correlación cruzada, restando la media y dividiendo por la desviación estándar. Esto permite obtener una medida de la correlación que es independiente de las unidades y magnitudes absolutas de los campos.\n"
   ]
  },
  {
   "cell_type": "code",
   "execution_count": 22,
   "id": "d6de5ded-b37d-4e43-ae0d-83dfcd12db70",
   "metadata": {},
   "outputs": [],
   "source": [
    "def correlation_2D(step):\n",
    "    #obten el módulo del promedio del espectro de potencias\n",
    "    abs_c = \"FFT_\" + \"c_\" + \"{:.3f}\".format(step) + \".txt\"\n",
    "    abs_s = \"FFT_\" + \"s_\" + \"{:.3f}\".format(step) + \".txt\"\n",
    "    abs_i = \"FFT_\" + \"i_\" + \"{:.3f}\".format(step) + \".txt\"\n",
    "    \n",
    "    mod_c = np.loadtxt(abs_c, float)\n",
    "    mod_s = np.loadtxt(abs_s, float)\n",
    "    mod_i = np.loadtxt(abs_i, float)\n",
    "    \n",
    "    # Determinar el tamaño máximo\n",
    "    max_shape = (max(mod_c.shape[0], mod_s.shape[0], mod_i.shape[0]),\n",
    "                 max(mod_c.shape[1], mod_s.shape[1], mod_i.shape[1]))\n",
    "    \n",
    "    # Redimensionar todas las matrices al tamaño máximo\n",
    "    mod_c = resize_to_shape(mod_c, max_shape)\n",
    "    mod_s = resize_to_shape(mod_s, max_shape)\n",
    "    mod_i = resize_to_shape(mod_i, max_shape)\n",
    "    \n",
    "    # calcula la inversa del modulo al cuadrado\n",
    "    c2_inv = np.fft.ifftn(mod_c**2)\n",
    "    max_fft_c2_inv = np.where(c2_inv == c2_inv.max())\n",
    "    c2_inv[max_fft_c2_inv[0][0],max_fft_c2_inv[1][0]] = 0   \n",
    "    \n",
    "    s2_inv = np.fft.ifftn(mod_s**2)\n",
    "    max_fft_s2_inv = np.where(s2_inv == s2_inv.max())\n",
    "    s2_inv[max_fft_s2_inv[0][0],max_fft_s2_inv[1][0]] = 0\n",
    "\n",
    "    i2_inv = np.fft.ifftn(mod_i**2)\n",
    "    max_fft_i2_inv = np.where(i2_inv == i2_inv.max())\n",
    "    i2_inv[max_fft_i2_inv[0][0],max_fft_i2_inv[1][0]] = 0\n",
    "    \n",
    "\n",
    "    cs_inv = np.fft.ifftn(mod_c*mod_s)\n",
    "    max_fft_cs_inv = np.where(cs_inv == cs_inv.max())\n",
    "    cs_inv[max_fft_cs_inv[0][0],max_fft_cs_inv[1][0]] = 0\n",
    "    \n",
    "    ci_inv = np.fft.ifftn(mod_c*mod_i)\n",
    "    max_fft_ci_inv = np.where(ci_inv == ci_inv.max())\n",
    "    ci_inv[max_fft_ci_inv[0][0],max_fft_ci_inv[1][0]] = 0\n",
    "    \n",
    "    si_inv = np.fft.ifftn(mod_s*mod_i)\n",
    "    max_fft_si_inv = np.where(si_inv == si_inv.max())\n",
    "    si_inv[max_fft_si_inv[0][0],max_fft_si_inv[1][0]] = 0\n",
    " \n",
    "    #Desplace el componente de frecuencia cero al centro del espectro.\n",
    "    c2_inv = np.fft.fftshift(c2_inv)\n",
    "    s2_inv = np.fft.fftshift(s2_inv)\n",
    "    i2_inv = np.fft.fftshift(i2_inv)\n",
    "    cs_inv = np.fft.fftshift(cs_inv)\n",
    "    ci_inv = np.fft.fftshift(ci_inv)\n",
    "    si_inv = np.fft.fftshift(si_inv)\n",
    "\n",
    "    # Obten el valor absoluto de la tranformada inversa\n",
    "    file_abs_c  = np.abs(c2_inv)\n",
    "    file_abs_s  = np.abs(s2_inv)\n",
    "    file_abs_i  = np.abs(i2_inv)\n",
    "\n",
    "    file_abs_cs = np.abs(cs_inv)\n",
    "    file_abs_ci = np.abs(ci_inv)\n",
    "    file_abs_si = np.abs(si_inv)\n",
    " \n",
    "\n",
    "    mean_c = np.mean(file_abs_c)\n",
    "    mean_s = np.mean(file_abs_s)\n",
    "    mean_i = np.mean(file_abs_i)\n",
    "    \n",
    "    std_c = np.std(mod_c)\n",
    "    std_s =  np.std(mod_s)\n",
    "    std_i =  np.std(mod_i)\n",
    "    \n",
    "    #Calcula las correlaciones\n",
    "    corr_cc = (file_abs_c - mean_c**2) / (std_c*std_c)\n",
    "    corr_ss = (file_abs_s - mean_s**2) / (std_s*std_s)\n",
    "    corr_ii = (file_abs_i - mean_i**2) / (std_i*std_i)\n",
    "\n",
    "    \n",
    "    corr_cs = (file_abs_cs - mean_c*mean_s) / (std_c*std_s)\n",
    "    corr_ci = (file_abs_ci - mean_c*mean_i) / (std_c*std_i)\n",
    "    corr_si = (file_abs_si - mean_s*mean_i) / (std_s*std_i)\n",
    "\n",
    "    \n",
    "    matrix_corr_cc_file = \"matrix_corr\" + \"_cc_\" + \"{:.3f}\".format(step) + \".txt\"\n",
    "    np.savetxt(matrix_corr_cc_file, corr_cc, delimiter=\"\\t\")\n",
    "    matrix_corr_ss_file = \"matrix_corr\" + \"_ss_\" + \"{:.3f}\".format(step) + \".txt\"\n",
    "    np.savetxt(matrix_corr_ss_file, corr_ss, delimiter=\"\\t\")\n",
    "    matrix_corr_ii_file = \"matrix_corr\" + \"_ii_\" + \"{:.3f}\".format(step) + \".txt\"\n",
    "    np.savetxt(matrix_corr_ii_file, corr_ii, delimiter=\"\\t\")\n",
    "    matrix_corr_cs_file = \"matrix_corr\" + \"_cs_\" + \"{:.3f}\".format(step) + \".txt\"\n",
    "    np.savetxt(matrix_corr_cs_file, corr_cs, delimiter=\"\\t\")\n",
    "    matrix_corr_ci_file = \"matrix_corr\" + \"_ci_\" + \"{:.3f}\".format(step) + \".txt\"\n",
    "    np.savetxt(matrix_corr_ci_file, corr_ci, delimiter=\"\\t\")\n",
    "    matrix_corr_si_file = \"matrix_corr\" + \"_si_\" + \"{:.3f}\".format(step) + \".txt\"\n",
    "    np.savetxt(matrix_corr_si_file, corr_si, delimiter=\"\\t\")\n",
    "\n",
    "    return None"
   ]
  },
  {
   "cell_type": "code",
   "execution_count": null,
   "id": "6d276f7a-7f12-4751-bda4-2c2e822d57d5",
   "metadata": {},
   "outputs": [],
   "source": []
  },
  {
   "cell_type": "code",
   "execution_count": null,
   "id": "580303df-aabb-4639-8980-2338bde0f0a2",
   "metadata": {},
   "outputs": [],
   "source": []
  },
  {
   "cell_type": "code",
   "execution_count": null,
   "id": "ac722406-0b41-4712-87ec-0d07e54c20d0",
   "metadata": {},
   "outputs": [],
   "source": []
  },
  {
   "cell_type": "code",
   "execution_count": null,
   "id": "6fc9ebf0-db48-4ef2-9b92-b2265b670dbf",
   "metadata": {},
   "outputs": [],
   "source": []
  },
  {
   "cell_type": "markdown",
   "id": "e5126a7b-9061-4f0f-bdc5-1981e95d3aad",
   "metadata": {},
   "source": [
    "## Función polar_mean(step, corr_type)\n",
    "##### Esta función toma una de las correlaciones calculadas (cc, ss, ii, cs, ci, si) y promedia sus valores a lo largo de diferentes ángulos en el espacio polar. Esto da una medida de la correlación como función de la distancia, sin tener en cuenta la dirección.\n",
    "\n",
    "##### El promedio polar te da una medida de la longitud de correlación, que indica la distancia típica a la cual dos puntos en el campo están correlacionados.\n",
    "\n",
    "##### Esto puede ser útil para identificar la escala espacial a la que ocurre la organización celular, como el tamaño típico de los clusters de células.\n"
   ]
  },
  {
   "cell_type": "code",
   "execution_count": 23,
   "id": "f0b156c1-004a-4c58-b792-e1e0772a16cd",
   "metadata": {},
   "outputs": [],
   "source": [
    "def polar_mean(step, corr_type):\n",
    "    matrix_file = \"matrix_corr_\" + corr_type + \"_\" + \"{:.3f}\".format(step) + \".txt\"\n",
    "    matrix = np.loadtxt(matrix_file, float)\n",
    "    n = len(matrix)  \n",
    "    dk = 1.0\n",
    "    p = np.zeros(int(n/2))\n",
    "    for i in range(1,int(n/2)): \n",
    "        k = dk*i\n",
    "        suma = 0.\n",
    "        dtheta = np.pi/90. # two degrees\n",
    "\n",
    "        for j in range (1,180):\n",
    "            theta = j * dtheta    \n",
    "            nx = int(k*np.cos(theta)/dk - n/2)\n",
    "            ny = int(k*np.sin(theta)/dk - n/2)\n",
    "            suma += matrix[nx,ny]        \n",
    "        p[i] = suma/180.\n",
    "\n",
    "    filename = \"correlation_\" + corr_type + \"_\" + \"{:.3f}\".format(step) + \".txt\"         \n",
    "    np.savetxt(filename, p, delimiter=\"\\n\")\n",
    "    return None"
   ]
  },
  {
   "cell_type": "code",
   "execution_count": 24,
   "id": "0bfdf543-b170-4977-b58e-c9c33146320b",
   "metadata": {},
   "outputs": [],
   "source": [
    "def axis_mean(step, corr_type):\n",
    "    # Redondea el valor de `step` a 3 decimales\n",
    "    step_rounded = round(step, 3)\n",
    "    \n",
    "    # Ajusta el nombre del archivo con el valor redondeado\n",
    "    matrix_file = \"matrix_corr_\" + corr_type + \"_\" + \"{:.3f}\".format(step_rounded) + \".txt\"\n",
    "    \n",
    "    try:\n",
    "        # Intenta cargar el archivo con el nombre ajustado\n",
    "        matrix = np.loadtxt(matrix_file, float)\n",
    "    except OSError:\n",
    "        print(f\"Archivo {matrix_file} no encontrado.\")\n",
    "        return None\n",
    "    \n",
    "    # Calcular los promedios\n",
    "    x_mean = np.mean(matrix, axis=0)\n",
    "    y_mean = np.mean(matrix, axis=1)\n",
    "    \n",
    "    # Guardar los resultados\n",
    "    filename_x = \"correlation_mean_x\" + corr_type + \"_\" + \"{:.3f}\".format(step_rounded) + \".txt\"\n",
    "    filename_y = \"correlation_mean_y\" + corr_type + \"_\" + \"{:.3f}\".format(step_rounded) + \".txt\"\n",
    "    np.savetxt(filename_x, x_mean, delimiter=\"\\n\")\n",
    "    np.savetxt(filename_y, y_mean, delimiter=\"\\n\")\n",
    "    \n",
    "    return None"
   ]
  },
  {
   "cell_type": "code",
   "execution_count": 25,
   "id": "1d33dcf5-ddf8-4e43-a2f2-4f4f019498c9",
   "metadata": {},
   "outputs": [],
   "source": [
    "def get_correlation(step, corr_type):\n",
    "    file = \"correlation_\"+corr_type+\"_\"+\"{:.3f}\".format(step)+\".txt\"\n",
    "    corr = np.loadtxt(file, float)\n",
    "    \n",
    "    return corr"
   ]
  },
  {
   "cell_type": "code",
   "execution_count": 26,
   "id": "61dfb8b5-222d-4231-b270-4518d0aa65b9",
   "metadata": {},
   "outputs": [],
   "source": [
    "def get_correlation_axis(step, corr_type):\n",
    "    # Elegir el archivo correcto basado en el tipo de eje\n",
    "    if axis == 'x':\n",
    "        file = \"correlation_mean_x_\" + corr_type + \"_\" + \"{:.3f}\".format(step) + \".txt\"\n",
    "    elif axis == 'y':\n",
    "        file = \"correlation_mean_y_\" + corr_type + \"_\" + \"{:.3f}\".format(step) + \".txt\"\n",
    "    else:\n",
    "        raise ValueError(\"El argumento 'axis' debe ser 'x' o 'y'.\")\n",
    "\n",
    "    try:\n",
    "        corr = np.loadtxt(file, float)\n",
    "    except OSError:\n",
    "        print(f\"Archivo {file} no encontrado.\")\n",
    "        return np.zeros(1)  # Devuelve un array vacío en caso de error\n",
    "\n",
    "    return corr"
   ]
  },
  {
   "cell_type": "code",
   "execution_count": 27,
   "id": "b9dc1f87-b440-41c5-bd50-fdbd44dacc41",
   "metadata": {},
   "outputs": [],
   "source": [
    "def plot_correlations_3d(corr_type, time_steps, dt, elev_angle, azim_angle):\n",
    "    fig = plt.figure(figsize=(15,15))\n",
    "    ax = plt.axes(projection='3d')\n",
    "    \n",
    "    file = \"correlation_\"+corr_type+\"_\"+\"{:.3f}\".format(dt)+\".txt\"\n",
    "    corr = np.loadtxt(file, float)\n",
    "\n",
    "    # plot a 3D surface like in the example mplot3d/surface3d_demo\n",
    "    X = np.arange(0, len(corr), 1)\n",
    "    Y = np.arange(dt, time_steps, dt)\n",
    "    X, Y = np.meshgrid(X, Y)\n",
    "    Z = np.array([get_correlation(i, corr_type) for i in np.arange(dt, time_steps, dt)])\n",
    "\n",
    "    surf = ax.plot_surface(X, Y, Z, rstride=5, cstride=1, alpha=1, cmap='Reds', linewidth=0.3, edgecolors='black')\n",
    "    fig.colorbar(surf, shrink=0.3, aspect=8, location='left', ax=ax)\n",
    "\n",
    "    ax.view_init(elev=elev_angle, azim=azim_angle)\n",
    "\n",
    "    ax.set_zlim(bottom=0)\n",
    "    ax.set_xlim(0,len(corr))\n",
    "    ax.set_ylim(0,time_steps)\n",
    "\n",
    "    ax.set_xlabel('Number wave \"r\"', fontsize=15)\n",
    "    ax.set_ylabel('Time step', fontsize=15)\n",
    "    ax.set_zlabel('P(k,t)', fontsize=15)\n",
    "    if save_images == 'Y':\n",
    "        plt.savefig(\"correlations_3D_{}.png\".format(corr_type))\n",
    "        plt.show()\n",
    "        pass\n",
    "    else:\n",
    "        plt.show()\n",
    "        pass"
   ]
  },
  {
   "cell_type": "code",
   "execution_count": 28,
   "id": "60dc6da2-dbc3-45fe-9602-19de132d5392",
   "metadata": {},
   "outputs": [],
   "source": [
    "def plot_correlations_x_3d(corr_type, time_steps, dt, elev_angle, azim_angle, save_images='N'):\n",
    "    fig = plt.figure(figsize=(15, 15))\n",
    "    ax = plt.axes(projection='3d')\n",
    "    \n",
    "    # Definir los rangos de X e Y\n",
    "    X = np.arange(0, len(np.loadtxt(f\"correlation_mean_x{corr_type}_{dt:.3f}.txt\", float)), 1)\n",
    "    Y = np.arange(dt, time_steps, dt)\n",
    "    X, Y = np.meshgrid(X, Y)\n",
    "\n",
    "    # Crear Z con las mismas dimensiones que X y Y\n",
    "    Z = np.zeros(X.shape)\n",
    "\n",
    "    for i in range(X.shape[0]):\n",
    "        for j in range(X.shape[1]):\n",
    "            # Construir el nombre del archivo para cada paso de tiempo\n",
    "            file_name = f\"correlation_mean_x{corr_type}_{Y[i, j]:.3f}.txt\"\n",
    "            try:\n",
    "                # Cargar los datos del archivo correspondiente\n",
    "                corr_data = np.loadtxt(file_name, float)\n",
    "                # Asumir que queremos usar un valor específico de corr_data; ajusta según sea necesario\n",
    "                Z[i, j] = np.mean(corr_data)  # O usa otro valor relevante si es necesario\n",
    "            except OSError:\n",
    "                # Si no se encuentra el archivo, asignar un valor por defecto\n",
    "                Z[i, j] = 0\n",
    "\n",
    "    surf = ax.plot_surface(X, Y, Z, rstride=5, cstride=1, alpha=1, cmap='Reds', linewidth=0.3, edgecolors='black')\n",
    "    fig.colorbar(surf, shrink=0.3, aspect=8, location='left', ax=ax)\n",
    "\n",
    "    ax.view_init(elev=elev_angle, azim=azim_angle)\n",
    "\n",
    "\n",
    "    ax.set_xlim(0, len(X))\n",
    "    ax.set_ylim(0, time_steps)\n",
    "\n",
    "    ax.set_xlabel('Number wave \"r\"', fontsize=15)\n",
    "    ax.set_ylabel('Time step', fontsize=15)\n",
    "    ax.set_zlabel('P(k,t)', fontsize=15)\n",
    "    \n",
    "    if save_images == 'Y':\n",
    "        plt.savefig(f\"correlations_3D_x_{corr_type}.png\")\n",
    "    \n",
    "    plt.show()"
   ]
  },
  {
   "cell_type": "code",
   "execution_count": 29,
   "id": "1180b191-26bc-42c9-b2bd-de0546b2ffb5",
   "metadata": {},
   "outputs": [],
   "source": [
    "def plot_correlations_y_3d(corr_type, time_steps, dt, elev_angle, azim_angle, save_images='N'):\n",
    "    fig = plt.figure(figsize=(15, 15))\n",
    "    ax = plt.axes(projection='3d')\n",
    "    \n",
    "    # Definir los rangos de X e Y\n",
    "    X = np.arange(0, len(np.loadtxt(f\"correlation_mean_y{corr_type}_{dt:.3f}.txt\", float)), 1)\n",
    "    Y = np.arange(dt, time_steps, dt)\n",
    "    X, Y = np.meshgrid(X, Y)\n",
    "\n",
    "    # Crear Z con las mismas dimensiones que X y Y\n",
    "    Z = np.zeros(X.shape)\n",
    "\n",
    "    for i in range(X.shape[0]):\n",
    "        for j in range(X.shape[1]):\n",
    "            # Construir el nombre del archivo para cada paso de tiempo\n",
    "            file_name = f\"correlation_mean_y{corr_type}_{Y[i, j]:.3f}.txt\"\n",
    "            try:\n",
    "                # Cargar los datos del archivo correspondiente\n",
    "                corr_data = np.loadtxt(file_name, float)\n",
    "                # Asumir que queremos usar un valor específico de corr_data; ajusta según sea necesario\n",
    "                Z[i, j] = np.mean(corr_data)  # O usa otro valor relevante si es necesario\n",
    "            except OSError:\n",
    "                # Si no se encuentra el archivo, asignar un valor por defecto\n",
    "                Z[i, j] = 0\n",
    "\n",
    "    surf = ax.plot_surface(X, Y, Z, rstride=5, cstride=1, alpha=1, cmap='Reds', linewidth=0.3, edgecolors='black')\n",
    "    fig.colorbar(surf, shrink=0.3, aspect=8, location='left', ax=ax)\n",
    "\n",
    "    ax.view_init(elev=elev_angle, azim=azim_angle)\n",
    "\n",
    "\n",
    "    ax.set_xlim(0, len(X))\n",
    "    ax.set_ylim(0, time_steps)\n",
    "\n",
    "    ax.set_xlabel('Number wave \"r\"', fontsize=15)\n",
    "    ax.set_ylabel('Time step', fontsize=15)\n",
    "    ax.set_zlabel('P(k,t)', fontsize=15)\n",
    "    \n",
    "    if save_images == 'Y':\n",
    "        plt.savefig(f\"correlations_3D_y_{corr_type}.png\")\n",
    "    \n",
    "    plt.show()\n"
   ]
  },
  {
   "cell_type": "code",
   "execution_count": 70,
   "id": "51d30d84-16e5-41f1-8574-f1a716100f30",
   "metadata": {},
   "outputs": [],
   "source": [
    "def plot_contour(corr_type, time_steps, dt, save_images='Y', x_max=None, y_max=None):\n",
    "    fig, ax = plt.subplots(figsize=(12, 6))\n",
    "    \n",
    "    # Cargar el archivo de correlación\n",
    "    file = \"correlation_\" + corr_type + \"_\" + \"{:.3f}\".format(dt) + \".txt\"\n",
    "    corr = np.loadtxt(file, float)\n",
    "\n",
    "    # Definir los ejes intercambiando X e Y\n",
    "    X = np.arange(dt, time_steps, dt)  # Ahora el tiempo es el eje X\n",
    "    Y = np.arange(0, len(corr), 1)     # El número de correlaciones es el eje Y\n",
    "    X, Y = np.meshgrid(X, Y)\n",
    "\n",
    "    # Calcular los valores de Z (correlaciones) para cada combinación de X e Y\n",
    "    Z = np.array([get_correlation(i, corr_type) for i in np.arange(dt, time_steps, dt)]).T  # Transponer Z\n",
    "\n",
    "    # Crear el gráfico de contorno\n",
    "    CS = ax.contour(X, Y, Z, levels=[0.5])\n",
    "    ax.clabel(CS, inline=True, fontsize=10)\n",
    "    ax.set_title('Correlation length ' + corr_type)\n",
    "\n",
    "    # Etiquetas de los ejes\n",
    "    ax.set_xlabel('Time step')\n",
    "    ax.set_ylabel('Correlation')\n",
    "\n",
    "    # Configurar límites de los ejes si se proporcionan\n",
    "    if x_max is not None:\n",
    "        ax.set_xlim(0, x_max)\n",
    "    if y_max is not None:\n",
    "        ax.set_ylim(0, y_max)\n",
    "\n",
    "    # Guardar o mostrar la imagen\n",
    "    if save_images == 'Y':\n",
    "        plt.savefig(\"correlations_length_{}.png\".format(corr_type))\n",
    "    else:\n",
    "        plt.show()\n"
   ]
  },
  {
   "cell_type": "code",
   "execution_count": 31,
   "id": "0f9a1c08-d3a1-485a-82e0-47f6a089bcf1",
   "metadata": {},
   "outputs": [],
   "source": [
    "t = dt\n",
    "while t < T:\n",
    "    correlation_2D(t)\n",
    "    t += dt"
   ]
  },
  {
   "cell_type": "code",
   "execution_count": 32,
   "id": "443ffc39-5703-46ed-a4e6-5eb617fc95eb",
   "metadata": {},
   "outputs": [],
   "source": [
    "t = dt\n",
    "while t < T:\n",
    "    polar_mean(t, \"cc\")\n",
    "    # axis_mean(t, \"cc\")\n",
    "    t += dt"
   ]
  },
  {
   "cell_type": "code",
   "execution_count": 71,
   "id": "5f9cd929-4627-49af-915d-01841c129b13",
   "metadata": {},
   "outputs": [
    {
     "data": {
      "image/png": "[encoded data removed]",
      "text/plain": [
       "<Figure size 864x432 with 1 Axes>"
      ]
     },
     "metadata": {
      "needs_background": "light"
     },
     "output_type": "display_data"
    }
   ],
   "source": [
    "plot_contour('cc', T, dt, y_max=10)"
   ]
  },
  {
   "cell_type": "code",
   "execution_count": 58,
   "id": "75079a61-5b57-47e6-a392-cf2c19b35549",
   "metadata": {},
   "outputs": [],
   "source": [
    "t = dt\n",
    "while t < T:\n",
    "    polar_mean(t, \"ss\")\n",
    "    # axis_mean(t, \"ss\")\n",
    "    t += dt"
   ]
  },
  {
   "cell_type": "code",
   "execution_count": 35,
   "id": "2de724ce-3cb9-4a80-9be8-75ef74eba951",
   "metadata": {},
   "outputs": [],
   "source": [
    "# plot_correlations_3d('ss', 0.15, dt, 20, 290)"
   ]
  },
  {
   "cell_type": "code",
   "execution_count": 72,
   "id": "5110c7ab-e51c-4ebf-a5cf-8f0501f41794",
   "metadata": {},
   "outputs": [
    {
     "data": {
      "image/png": "[encoded data removed]",
      "text/plain": [
       "<Figure size 864x432 with 1 Axes>"
      ]
     },
     "metadata": {
      "needs_background": "light"
     },
     "output_type": "display_data"
    }
   ],
   "source": [
    "plot_contour('ss', T, dt, y_max=10)"
   ]
  },
  {
   "cell_type": "code",
   "execution_count": 37,
   "id": "aeb9e5c6-ecb4-4351-9404-401399c56f66",
   "metadata": {},
   "outputs": [],
   "source": [
    "t = dt\n",
    "while t < T:\n",
    "    polar_mean(t, \"ii\")\n",
    "    # axis_mean(t, \"ii\")\n",
    "    t += dt"
   ]
  },
  {
   "cell_type": "code",
   "execution_count": null,
   "id": "34a0d1f2-f877-435e-9309-1b5c929d1e79",
   "metadata": {},
   "outputs": [],
   "source": [
    "# plot_correlations_3d('ii', T, dt, 20, 290)"
   ]
  },
  {
   "cell_type": "code",
   "execution_count": 73,
   "id": "71eec24d-26f3-4a85-bf89-72495d91b314",
   "metadata": {},
   "outputs": [
    {
     "data": {
      "image/png": "[encoded data removed]",
      "text/plain": [
       "<Figure size 864x432 with 1 Axes>"
      ]
     },
     "metadata": {
      "needs_background": "light"
     },
     "output_type": "display_data"
    }
   ],
   "source": [
    "plot_contour('ii', T, dt, y_max=10)"
   ]
  },
  {
   "cell_type": "code",
   "execution_count": 39,
   "id": "827bace0-5de7-4582-abb9-ec962c1a6018",
   "metadata": {},
   "outputs": [],
   "source": [
    "t = dt\n",
    "while t < T:\n",
    "    polar_mean(t, \"cs\")\n",
    "    # axis_mean(t, \"cs\")\n",
    "    t += dt"
   ]
  },
  {
   "cell_type": "code",
   "execution_count": null,
   "id": "881a9e44-9350-45f5-a689-0aaf581a9111",
   "metadata": {},
   "outputs": [],
   "source": [
    "# plot_correlations_3d('cs', 0.15, dt, 20, 290)"
   ]
  },
  {
   "cell_type": "code",
   "execution_count": 74,
   "id": "fcd7a5b5-7e4e-44fb-9ddd-123c502429eb",
   "metadata": {},
   "outputs": [
    {
     "data": {
      "image/png": "[encoded data removed]",
      "text/plain": [
       "<Figure size 864x432 with 1 Axes>"
      ]
     },
     "metadata": {
      "needs_background": "light"
     },
     "output_type": "display_data"
    }
   ],
   "source": [
    "plot_contour('cs', T, dt, y_max=10)"
   ]
  },
  {
   "cell_type": "code",
   "execution_count": 41,
   "id": "191f2260-fa21-4c40-8384-d0daa57ac4bc",
   "metadata": {},
   "outputs": [],
   "source": [
    "t = dt\n",
    "while t < T:\n",
    "    polar_mean(t, \"ci\")\n",
    "    # axis_mean(t, \"ci\")\n",
    "    t += dt"
   ]
  },
  {
   "cell_type": "code",
   "execution_count": null,
   "id": "8afd2355-0466-4677-8786-6a77c2b559ba",
   "metadata": {},
   "outputs": [],
   "source": [
    "# plot_correlations_3d('ci', T, dt, 20, 290)"
   ]
  },
  {
   "cell_type": "code",
   "execution_count": 75,
   "id": "29cf90e1-c0fd-4e74-a405-0437876f67cf",
   "metadata": {},
   "outputs": [
    {
     "data": {
      "image/png": "[encoded data removed]",
      "text/plain": [
       "<Figure size 864x432 with 1 Axes>"
      ]
     },
     "metadata": {
      "needs_background": "light"
     },
     "output_type": "display_data"
    }
   ],
   "source": [
    "plot_contour('ci', T, dt, y_max=10)"
   ]
  },
  {
   "cell_type": "code",
   "execution_count": 43,
   "id": "a97f2d9e-8288-4e20-9fde-0660dd4aed75",
   "metadata": {},
   "outputs": [],
   "source": [
    "t = dt\n",
    "while t < T:\n",
    "    polar_mean(t, \"si\")\n",
    "    # axis_mean(t, \"si\")\n",
    "    t += dt"
   ]
  },
  {
   "cell_type": "code",
   "execution_count": null,
   "id": "81d84c4d-91a0-447c-b490-d6301581e79d",
   "metadata": {},
   "outputs": [],
   "source": [
    "# plot_correlations_3d('si', T, dt, 20, 290)"
   ]
  },
  {
   "cell_type": "code",
   "execution_count": 76,
   "id": "7747b1e3-3a3e-44fb-9349-ce062fd536eb",
   "metadata": {},
   "outputs": [
    {
     "data": {
      "image/png": "[encoded data removed]",
      "text/plain": [
       "<Figure size 864x432 with 1 Axes>"
      ]
     },
     "metadata": {
      "needs_background": "light"
     },
     "output_type": "display_data"
    }
   ],
   "source": [
    "plot_contour('si', T, dt, y_max=10)"
   ]
  },
  {
   "cell_type": "code",
   "execution_count": null,
   "id": "cdefb612-b91e-47ab-8597-043657a55a7d",
   "metadata": {},
   "outputs": [],
   "source": []
  }
 ],
 "metadata": {
  "kernelspec": {
   "display_name": "Python 3 (ipykernel)",
   "language": "python",
   "name": "python3"
  },
  "language_info": {
   "codemirror_mode": {
    "name": "ipython",
    "version": 3
   },
   "file_extension": ".py",
   "mimetype": "text/x-python",
   "name": "python",
   "nbconvert_exporter": "python",
   "pygments_lexer": "ipython3",
   "version": "3.9.7"
  }
 },
 "nbformat": 4,
 "nbformat_minor": 5
}
