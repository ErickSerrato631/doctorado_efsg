{
 "cells": [
  {
   "cell_type": "code",
   "execution_count": null,
   "id": "173ccdfb-f087-44e9-906c-e6cee7ad8b30",
   "metadata": {},
   "outputs": [],
   "source": [
    "import matplotlib.pyplot as plt\n",
    "from matplotlib import cm\n",
    "from mpl_toolkits.mplot3d.axes3d import get_test_data\n",
    "from fenics import *\n",
    "from mshr import *\n",
    "import numpy as np\n",
    "import os"
   ]
  },
  {
   "cell_type": "code",
   "execution_count": null,
   "id": "9cddb9c8-d041-40f4-9916-02500a9e96a5",
   "metadata": {},
   "outputs": [],
   "source": [
    "os.chdir('/home/erick/Desktop/Doctorado/doctorado_efsg/pruebas')"
   ]
  },
  {
   "cell_type": "code",
   "execution_count": null,
   "id": "8f9e6390-746a-46bb-bb2e-f95a1e93fd26",
   "metadata": {},
   "outputs": [],
   "source": [
    "def plot_field_and_fft(field, field_type, fft_field, t): \n",
    "    field=np.loadtxt(field,float)\n",
    "    field = np.rot90(field, k=1, axes=(0, 1))\n",
    "    fft_field=np.loadtxt(fft_field,float)\n",
    "    field[field == 0.0] = np.nan\n",
    "\n",
    "    plt.figure(figsize=(12, 4))\n",
    "    plt.subplot(1, 2, 1)\n",
    "    \n",
    "    if field_type == 'c':\n",
    "        plt.imshow(field, cmap = 'seismic' , interpolation = 'bilinear')\n",
    "        plt.title(\"$c(t={})$\".format(\"{:.2f}\".format(t)))\n",
    "    \n",
    "    if field_type == 's':\n",
    "        plt.imshow(field, cmap = 'gray' , interpolation = 'bilinear')\n",
    "        plt.title(\"$s(t={})$\".format(\"{:.2f}\".format(t)))\n",
    "    \n",
    "    if field_type == 'i':\n",
    "        plt.imshow(field, cmap = 'viridis' , interpolation = 'bilinear')\n",
    "        plt.title(\"$i(t={})$\".format(\"{:.2f}\".format(t)))\n",
    "    \n",
    "    plt.colorbar() \n",
    "    \n",
    "    plt.subplot(1, 2, 2)\n",
    "    plt.imshow(fft_field, cmap = 'seismic' , interpolation = 'bilinear')\n",
    "    if field_type == 'c':\n",
    "        plt.title(\"$c_{fft}(t=%s)$\" % \"{:.2f}\".format(t))\n",
    "        plt.colorbar()    \n",
    "        #plt.savefig(\"fields_c_{}.png\".format(t))\n",
    "        plt.show()\n",
    "    if field_type == 's':\n",
    "        plt.title(\"$s_{fft}(t=%s)$\" % \"{:.2f}\".format(t))\n",
    "        plt.colorbar()\n",
    "        #plt.savefig(\"fields_s_{}.png\".format(t))\n",
    "        plt.show()\n",
    "    if field_type == 'i':\n",
    "        plt.title(\"$i_{fft}(t=%s)$\" % \"{:.2f}\".format(t))\n",
    "        plt.colorbar()\n",
    "        #plt.savefig(\"fields_i_{}.png\".format(t))\n",
    "        plt.show()"
   ]
  },
  {
   "cell_type": "code",
   "execution_count": null,
   "id": "fa8494b6-a451-401e-95b1-18bc47147c6e",
   "metadata": {},
   "outputs": [],
   "source": [
    "def dft_mean(field, end_step, end_blocks):\n",
    "    step=0.01\n",
    "    while step <= end_step:\n",
    "        final_file = 0.0\n",
    "        for nb in range(1, end_blocks+1):\n",
    "            file_name = \"matrix_\" + field +  \"_dft_\" + \"{:.2f}\".format(step) + \"_nb_\" + str(nb) + \".txt\"\n",
    "            file_load = np.loadtxt(file_name, float)\n",
    "            final_file += file_load\n",
    "        final_file = final_file/float(end_blocks)\n",
    "        #print(\"step=\",step)\n",
    "        \n",
    "        f_save = \"FFT_\" + field + \"_\" + \"{:.2f}\".format(step) + \".txt\"\n",
    "        np.savetxt(f_save, final_file, delimiter=\"\\t\")\n",
    "        step += 0.01\n",
    "    plt.imshow(final_file, cmap=plt.cm.seismic)\n",
    "    plt.colorbar()\n",
    "    #plt.savefig(\"mean_fft.png\".format(t))\n",
    "    plt.show()"
   ]
  },
  {
   "cell_type": "code",
   "execution_count": null,
   "id": "22f6eb0d-c34a-48da-abb3-57576e2eba8e",
   "metadata": {},
   "outputs": [],
   "source": [
    "# Time parameters\n",
    "dt = 0.01 # step\n",
    "T = 4 # end step\n",
    "nb = 10"
   ]
  },
  {
   "cell_type": "code",
   "execution_count": null,
   "id": "90833100-480c-4c7f-ad09-65c9a6aaa73b",
   "metadata": {},
   "outputs": [],
   "source": [
    "def power_spectrum(field_type, t, block):\n",
    "    field_file = \"matrix_\"  + field_type +\"_\"+ \"{:.2f}\".format(t) + \"_\" + \"nb_\" + str(block) + \".txt\"\n",
    "    field=np.loadtxt(field_file,float)\n",
    "    field = np.rot90(field, k=1, axes=(0, 1))\n",
    "    fft_field = np.fft.fft2(field)\n",
    "    fft_field=np.fft.fftshift(fft_field)\n",
    "    fft_field=(np.abs(fft_field))\n",
    "    max_fft = np.where(fft_field == fft_field.max())\n",
    "    fft_field[max_fft[0][0],max_fft[1][0]] = 0\n",
    "    dft_file = \"matrix\" + \"_{}_dft_\".format(field_type) + \"{:.2f}\".format(t) + \"_\" + \"nb_\" + str(block) + \".txt\"\n",
    "    np.savetxt(dft_file, fft_field, delimiter=\"\\t\")\n",
    "    return field_file, dft_file"
   ]
  },
  {
   "cell_type": "code",
   "execution_count": null,
   "id": "22578131-c8d1-44ae-8ad0-429e01f12482",
   "metadata": {},
   "outputs": [],
   "source": [
    "for block in range(1,nb+1):\n",
    "    t = 0\n",
    "    print(\"block=\", block)  \n",
    "    while t <= T:\n",
    "        t += dt\n",
    "        field_c, dft_field_c = power_spectrum('c', t, block)\n",
    "        field_s, dft_field_s = power_spectrum('s', t, block)\n",
    "        field_i, dft_field_i = power_spectrum('i', t, block)      \n",
    "        plot_field_and_fft(field_c, 'c', dft_field_c, t)\n",
    "        plot_field_and_fft(field_s, 's', dft_field_s, t)\n",
    "        plot_field_and_fft(field_i, 'i', dft_field_s, t)"
   ]
  },
  {
   "cell_type": "code",
   "execution_count": null,
   "id": "a181da6c-9690-4c25-bf04-c61540035ae5",
   "metadata": {},
   "outputs": [],
   "source": [
    "dft_mean('c', T, nb)\n",
    "dft_mean('s', T, nb)\n",
    "dft_mean('i', T, nb)"
   ]
  },
  {
   "cell_type": "code",
   "execution_count": null,
   "id": "ea83e009-50af-423a-b919-fc1f447619fe",
   "metadata": {},
   "outputs": [],
   "source": []
  }
 ],
 "metadata": {
  "kernelspec": {
   "display_name": "Python 3 (ipykernel)",
   "language": "python",
   "name": "python3"
  },
  "language_info": {
   "codemirror_mode": {
    "name": "ipython",
    "version": 3
   },
   "file_extension": ".py",
   "mimetype": "text/x-python",
   "name": "python",
   "nbconvert_exporter": "python",
   "pygments_lexer": "ipython3",
   "version": "3.9.7"
  }
 },
 "nbformat": 4,
 "nbformat_minor": 5
}
